{
 "cells": [
  {
   "cell_type": "markdown",
   "id": "4db538ef-cd13-4817-82e6-556749a572f6",
   "metadata": {},
   "source": [
    "### Dependencies and input"
   ]
  },
  {
   "cell_type": "code",
   "execution_count": 3,
   "id": "0d6a4f0c-494d-487c-97b6-386c493cf559",
   "metadata": {},
   "outputs": [],
   "source": [
    "import random\n",
    "import pandas as pd\n",
    "\n",
    "meta_data_source = \"/Users/moritz/Desktop/unpast_1a/unpast_1a_meta_filter.txt\"\n",
    "cluster_data_source = \"/Users/moritz/Desktop/unpast_1a/unpast_1a_cluster_final.tsv\"\n",
    "\n",
    "categorical_attributes = [\"gender\", \"condition\"] \n",
    "p_value_threshold = 0.05\n",
    "draws = 1000"
   ]
  },
  {
   "cell_type": "markdown",
   "id": "c341629c-e031-4e01-9fdb-d69ba43dfe47",
   "metadata": {},
   "source": [
    "### Import of metadata"
   ]
  },
  {
   "cell_type": "code",
   "execution_count": 5,
   "id": "ec19389e-a468-40e9-bdf1-20ebf7619c73",
   "metadata": {},
   "outputs": [],
   "source": [
    "meta_data_df = pd.read_csv(meta_data_source, sep=\"\\t\")\n",
    "#print(meta_data_df)"
   ]
  },
  {
   "cell_type": "markdown",
   "id": "192ce618-c75a-4184-ade0-bbd0d7845cb3",
   "metadata": {},
   "source": [
    "### Import of cluster data"
   ]
  },
  {
   "cell_type": "code",
   "execution_count": 7,
   "id": "f2efebfe-2dce-4eec-bc01-c7c9d3412ac4",
   "metadata": {},
   "outputs": [],
   "source": [
    "cluster_data_df = pd.read_csv(cluster_data_source, sep=\"\\t\")\n",
    "#print(cluster_data_df)"
   ]
  },
  {
   "cell_type": "markdown",
   "id": "8bab249b-3d08-40a7-8461-51728fa52f1f",
   "metadata": {},
   "source": [
    "### Assignment of sample indexes within given cluster "
   ]
  },
  {
   "cell_type": "code",
   "execution_count": 9,
   "id": "cfd0bf6b-9f15-49e6-9432-121c84cfb625",
   "metadata": {},
   "outputs": [],
   "source": [
    "# to make a dict with the cluster id as key and the sample indexes as values\n",
    "samples_in_cluster_dict = cluster_data_df.set_index('id')['sample_indexes'].to_dict()       \n",
    "\n",
    "# to convert sample_indexes from string to list\n",
    "for cluster_id, sample_ids in samples_in_cluster_dict.items():\n",
    "    samples_in_cluster_dict[cluster_id] = [int(sample) for sample in sample_ids.split()]\n",
    "\n",
    "#print(samples_in_cluster_dict)"
   ]
  },
  {
   "cell_type": "markdown",
   "id": "9e17cd2f-ec27-42c5-b6ed-22095b8289e3",
   "metadata": {},
   "source": [
    "# ==============================================================="
   ]
  },
  {
   "cell_type": "markdown",
   "id": "ee822b65-52ea-4d93-9043-0488fb852755",
   "metadata": {},
   "source": [
    "### Metadata assignment within given cluster function"
   ]
  },
  {
   "cell_type": "code",
   "execution_count": 12,
   "id": "83054046-b05e-479b-9b96-e1f451fb99e4",
   "metadata": {},
   "outputs": [],
   "source": [
    "# to assign metadata information like gender or condition to the corresponding sample_indexes within the given clusters\n",
    "def metadata_per_cluster(meta_data_list, samples_in_cluster_dict) -> dict:\n",
    "    metadata_per_cluster_dict = {}\n",
    "    \n",
    "    for cluster_id, sample_ids in samples_in_cluster_dict.items():\n",
    "        values = []\n",
    "        for index in sample_ids: \n",
    "            values.append(meta_data_list[index])\n",
    "        \n",
    "        metadata_per_cluster_dict[cluster_id] = values\n",
    "    \n",
    "    return metadata_per_cluster_dict"
   ]
  },
  {
   "cell_type": "markdown",
   "id": "378b51b1-0a67-4efc-bc47-e67b3ce3785f",
   "metadata": {},
   "source": [
    "### Bootstrapping function"
   ]
  },
  {
   "cell_type": "code",
   "execution_count": 14,
   "id": "3f303095-0670-4b49-b9bf-d74080b98a74",
   "metadata": {},
   "outputs": [],
   "source": [
    "# to determine an aproximative distribution from the given metadata\n",
    "def bootstrapping(cluster_distribution_dict, draws, meta_data_list, sample_meta_data) -> dict:\n",
    "    permutation_dict = {}\n",
    "    length_of_cluster = len(sample_meta_data)\n",
    "    \n",
    "    for attribute in cluster_distribution_dict.keys():\n",
    "        permutation_list = []\n",
    "        \n",
    "        for draw in range(draws):\n",
    "            random_draws = random.sample(meta_data_list, k=length_of_cluster)\n",
    "            attribute_counter = random_draws.count(attribute)\n",
    "            permutation_list.append(attribute_counter)\n",
    "            permutation_list.sort(reverse=True)\n",
    "            permutation_dict[attribute] = permutation_list\n",
    "    \n",
    "    return permutation_dict"
   ]
  },
  {
   "cell_type": "markdown",
   "id": "7f42415f-6e9e-4438-8976-c5791fceb002",
   "metadata": {},
   "source": [
    "### Cluster distribution function"
   ]
  },
  {
   "cell_type": "code",
   "execution_count": 16,
   "id": "ec6d37c6-b178-42a7-b5d8-50ce0eee202d",
   "metadata": {},
   "outputs": [],
   "source": [
    "# to get the distribution of sample meta data for a given cluster \n",
    "def cluster_distribution(sample_meta_data) -> dict:\n",
    "    cluster_occurrence_dict = {}\n",
    "    \n",
    "    for element in sample_meta_data: \n",
    "        if element in cluster_occurrence_dict:\n",
    "            cluster_occurrence_dict[element] += 1\n",
    "        else:\n",
    "            cluster_occurrence_dict[element] = 1\n",
    "\n",
    "    return cluster_occurrence_dict"
   ]
  },
  {
   "cell_type": "markdown",
   "id": "5999bfd9-988e-499f-b9a2-12a6ac015ab0",
   "metadata": {},
   "source": [
    "### Calculation of P-Values function"
   ]
  },
  {
   "cell_type": "code",
   "execution_count": 18,
   "id": "27106edf-3cd0-4019-8240-d08e3cf07724",
   "metadata": {},
   "outputs": [],
   "source": [
    "# to determine the corresponding P Values with the given cluster distribution and the bootsrapping results\n",
    "def calculate_p_value(cluster_distribution_dict, permutation_dict, draws) -> dict:\n",
    "    if cluster_distribution_dict.keys() != permutation_dict.keys():\n",
    "        raise keyerror(\"keys in cluster_distribution_dict and permutation_dict don't match!\")\n",
    "    \n",
    "    draw_freq_list = []\n",
    "    p_values_dict = {}\n",
    "    \n",
    "    for attribute, occurrence in cluster_distribution_dict.items():\n",
    "        draw_freq_list = permutation_dict[attribute]\n",
    "        counter = 0\n",
    "        for element in draw_freq_list:\n",
    "            if element < occurrence:\n",
    "                break\n",
    "            else:\n",
    "                counter += 1\n",
    "                \n",
    "        p_values_dict[attribute] = counter/draws\n",
    "    \n",
    "    return p_values_dict"
   ]
  },
  {
   "cell_type": "markdown",
   "id": "b8d550dd-bd64-415a-bbb9-9af444c197e4",
   "metadata": {},
   "source": [
    "### Main"
   ]
  },
  {
   "cell_type": "code",
   "execution_count": 20,
   "id": "90a4d375-84a9-40b2-935c-f1a33577deb8",
   "metadata": {},
   "outputs": [],
   "source": [
    "# main: to harness all loops through the given categorical attributes (defined within the first cell)\n",
    "def main():\n",
    "    for category in categorical_attributes:\n",
    "        print(category)\n",
    "        print(\"------------------------------------------------------------------\\n\")\n",
    "        meta_data_list = meta_data_df[category].tolist()\n",
    "        metadata_per_cluster_dict = metadata_per_cluster(meta_data_list, samples_in_cluster_dict)\n",
    "        \n",
    "        for cluster_id, sample_meta_data in metadata_per_cluster_dict.items():\n",
    "            try:\n",
    "                cluster_distribution_dict = cluster_distribution(sample_meta_data)\n",
    "                #print(cluster_distribution_dict)\n",
    "                permutation_dict = bootstrapping(cluster_distribution_dict, draws, meta_data_list, sample_meta_data)\n",
    "                #print(permutation_dict)\n",
    "                p_values_dict = calculate_p_value(cluster_distribution_dict, permutation_dict, draws)\n",
    "                #print(p_values_dict)\n",
    "                \n",
    "                for attribute, p_value in p_values_dict.items():\n",
    "                    if p_value <= p_value_threshold:\n",
    "                        print(\"Cluster ID: \"+str(cluster_id)+\"|\", \"Attribute: \"+str(attribute)+\"|\", \"P-Value: \"+str(p_value)+\";\")\n",
    "            \n",
    "            except:\n",
    "                print(\"Exception occurred during handling of Cluster ID: \"+str(cluster_id))\n",
    "                \n",
    "        print(\"\\n\") \n",
    "            "
   ]
  },
  {
   "cell_type": "code",
   "execution_count": 21,
   "id": "4c3d6955-2c94-4ce0-aefc-866af9c91fa0",
   "metadata": {},
   "outputs": [
    {
     "name": "stdout",
     "output_type": "stream",
     "text": [
      "gender\n",
      "------------------------------------------------------------------\n",
      "\n",
      "Cluster ID: 15| Attribute: F| P-Value: 0.0;\n",
      "\n",
      "\n",
      "condition\n",
      "------------------------------------------------------------------\n",
      "\n",
      "Cluster ID: 11| Attribute: healthy| P-Value: 0.001;\n",
      "Cluster ID: 15| Attribute: healthy| P-Value: 0.019;\n",
      "Cluster ID: 57| Attribute: healthy| P-Value: 0.019;\n",
      "Cluster ID: 71| Attribute: pah| P-Value: 0.023;\n",
      "Cluster ID: 76| Attribute: ph-lung| P-Value: 0.003;\n",
      "Cluster ID: 122| Attribute: healthy| P-Value: 0.026;\n",
      "Cluster ID: 137| Attribute: healthy| P-Value: 0.003;\n",
      "\n",
      "\n"
     ]
    }
   ],
   "source": [
    "main()"
   ]
  }
 ],
 "metadata": {
  "kernelspec": {
   "display_name": "Python 3 (ipykernel)",
   "language": "python",
   "name": "python3"
  },
  "language_info": {
   "codemirror_mode": {
    "name": "ipython",
    "version": 3
   },
   "file_extension": ".py",
   "mimetype": "text/x-python",
   "name": "python",
   "nbconvert_exporter": "python",
   "pygments_lexer": "ipython3",
   "version": "3.12.2"
  }
 },
 "nbformat": 4,
 "nbformat_minor": 5
}
