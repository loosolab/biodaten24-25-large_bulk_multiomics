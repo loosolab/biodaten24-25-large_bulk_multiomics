{
 "cells": [
  {
   "cell_type": "markdown",
   "id": "4db538ef-cd13-4817-82e6-556749a572f6",
   "metadata": {},
   "source": [
    "### Dependencies and input"
   ]
  },
  {
   "cell_type": "code",
   "execution_count": 2,
   "id": "0d6a4f0c-494d-487c-97b6-386c493cf559",
   "metadata": {},
   "outputs": [],
   "source": [
    "import random\n",
    "import pandas as pd\n",
    "import numpy as np\n",
    "\n",
    "meta_data_source = \"/Users/moritz/Desktop/unpast_1a/unpast_1a_meta_filter.txt\"\n",
    "cluster_data_source = \"/Users/moritz/Desktop/unpast_1a/unpast_1a_cluster_final.tsv\"\n",
    "\n",
    "p_value_threshold = 0.05\n",
    "draws = 1000\n",
    "\n",
    "numerical_attributes = [\"age\", \"height\"] "
   ]
  },
  {
   "cell_type": "markdown",
   "id": "c341629c-e031-4e01-9fdb-d69ba43dfe47",
   "metadata": {},
   "source": [
    "### Import of metadata"
   ]
  },
  {
   "cell_type": "code",
   "execution_count": 4,
   "id": "ec19389e-a468-40e9-bdf1-20ebf7619c73",
   "metadata": {},
   "outputs": [],
   "source": [
    "meta_data_df = pd.read_csv(meta_data_source, sep=\"\\t\")\n",
    "#print(meta_data_df)"
   ]
  },
  {
   "cell_type": "markdown",
   "id": "192ce618-c75a-4184-ade0-bbd0d7845cb3",
   "metadata": {},
   "source": [
    "### Import of cluster data"
   ]
  },
  {
   "cell_type": "code",
   "execution_count": 6,
   "id": "f2efebfe-2dce-4eec-bc01-c7c9d3412ac4",
   "metadata": {},
   "outputs": [],
   "source": [
    "cluster_data_df = pd.read_csv(cluster_data_source, sep=\"\\t\")\n",
    "#print(cluster_data_df)"
   ]
  },
  {
   "cell_type": "markdown",
   "id": "8bab249b-3d08-40a7-8461-51728fa52f1f",
   "metadata": {},
   "source": [
    "### Assignment of sample indexes within given cluster "
   ]
  },
  {
   "cell_type": "code",
   "execution_count": 8,
   "id": "cfd0bf6b-9f15-49e6-9432-121c84cfb625",
   "metadata": {},
   "outputs": [],
   "source": [
    "# to make a dict with the cluster id as key and the sample indexes as values\n",
    "samples_in_cluster_dict = cluster_data_df.set_index('id')['sample_indexes'].to_dict()       \n",
    "\n",
    "# to convert sample_indexes from string to list\n",
    "for cluster_id, sample_ids in samples_in_cluster_dict.items():\n",
    "    samples_in_cluster_dict[cluster_id] = [int(sample) for sample in sample_ids.split()]\n",
    "\n",
    "#print(samples_in_cluster_dict)"
   ]
  },
  {
   "cell_type": "markdown",
   "id": "9e17cd2f-ec27-42c5-b6ed-22095b8289e3",
   "metadata": {},
   "source": [
    "# ==============================================================="
   ]
  },
  {
   "cell_type": "markdown",
   "id": "ee822b65-52ea-4d93-9043-0488fb852755",
   "metadata": {},
   "source": [
    "### Metadata assignment within given cluster function"
   ]
  },
  {
   "cell_type": "code",
   "execution_count": 11,
   "id": "83054046-b05e-479b-9b96-e1f451fb99e4",
   "metadata": {},
   "outputs": [],
   "source": [
    "# to assign metadata information like gender or condition to the corresponding sample_indexes within the given clusters\n",
    "def metadata_per_cluster(meta_data_list, samples_in_cluster_dict) -> dict:\n",
    "    metadata_per_cluster_dict = {}\n",
    "    \n",
    "    for cluster_id, sample_ids in samples_in_cluster_dict.items():\n",
    "        values = []\n",
    "        for index in sample_ids: \n",
    "            values.append(meta_data_list[index])\n",
    "        metadata_per_cluster_dict[cluster_id] = values\n",
    "    \n",
    "    return metadata_per_cluster_dict"
   ]
  },
  {
   "cell_type": "markdown",
   "id": "378b51b1-0a67-4efc-bc47-e67b3ce3785f",
   "metadata": {},
   "source": [
    "### Bootstrapping function"
   ]
  },
  {
   "cell_type": "code",
   "execution_count": 13,
   "id": "3f303095-0670-4b49-b9bf-d74080b98a74",
   "metadata": {},
   "outputs": [],
   "source": [
    "# to determine an aproximative distribution from the given metadata\n",
    "def bootstrapping(draws, meta_data_list, sample_meta_data):\n",
    "    length_of_cluster = len(sample_meta_data)\n",
    "    random_draws_mean_list = []\n",
    "    \n",
    "    for draw in range(draws):\n",
    "        random_draws = random.sample(meta_data_list, k=length_of_cluster)\n",
    "        random_draws_mean = sum(random_draws)/length_of_cluster\n",
    "        random_draws_mean_list.append(random_draws_mean)\n",
    "        random_draws_mean_list.sort(reverse=True)\n",
    "    \n",
    "    return random_draws_mean_list"
   ]
  },
  {
   "cell_type": "markdown",
   "id": "7f42415f-6e9e-4438-8976-c5791fceb002",
   "metadata": {},
   "source": [
    "### Cluster distribution function"
   ]
  },
  {
   "cell_type": "code",
   "execution_count": 15,
   "id": "ec6d37c6-b178-42a7-b5d8-50ce0eee202d",
   "metadata": {},
   "outputs": [],
   "source": [
    "# to get the distribution of sample meta data for a given cluster \n",
    "def cluster_distribution(sample_meta_data):\n",
    "    cluster_occurrance_mean = sum(sample_meta_data)/len(sample_meta_data)\n",
    "    return cluster_occurrance_mean"
   ]
  },
  {
   "cell_type": "markdown",
   "id": "5999bfd9-988e-499f-b9a2-12a6ac015ab0",
   "metadata": {},
   "source": [
    "### Calculation of P-Values function"
   ]
  },
  {
   "cell_type": "code",
   "execution_count": 17,
   "id": "27106edf-3cd0-4019-8240-d08e3cf07724",
   "metadata": {},
   "outputs": [],
   "source": [
    "# to determine the corresponding P Values with the given cluster distribution and the bootsrapping results\n",
    "def calculate_p_value(cluster_distribution_mean, permutation_list, draws) -> dict:\n",
    "    counter = 0\n",
    "    \n",
    "    for element in permutation_list:\n",
    "        if element < cluster_distribution_mean:\n",
    "            break\n",
    "        else:\n",
    "            counter += 1\n",
    "\n",
    "    p_value = counter/draws\n",
    "\n",
    "    return p_value"
   ]
  },
  {
   "cell_type": "markdown",
   "id": "b8d550dd-bd64-415a-bbb9-9af444c197e4",
   "metadata": {},
   "source": [
    "### Main"
   ]
  },
  {
   "cell_type": "code",
   "execution_count": 19,
   "id": "90a4d375-84a9-40b2-935c-f1a33577deb8",
   "metadata": {},
   "outputs": [],
   "source": [
    "# main: to harness all loops through the given numerical attributes (defined within the first cell)\n",
    "def main():\n",
    "    for category in numerical_attributes:\n",
    "        print(category)\n",
    "        print(\"------------------------------------------------------------------\\n\")\n",
    "        meta_data_list = meta_data_df[category].tolist()\n",
    "        \n",
    "        metadata_per_cluster_dict = metadata_per_cluster(meta_data_list, samples_in_cluster_dict)\n",
    "        \n",
    "        for cluster_id, sample_meta_data in metadata_per_cluster_dict.items():\n",
    "            try:\n",
    "                cluster_distribution_mean = cluster_distribution(sample_meta_data)\n",
    "                #print(cluster_distribution_mean)\n",
    "                permutation_list = bootstrapping(draws, meta_data_list, sample_meta_data)\n",
    "                #print(permutation_list)\n",
    "                p_value = calculate_p_value(cluster_distribution_mean, permutation_list, draws)\n",
    "                #print(p_value)\n",
    "                \n",
    "                if p_value <= p_value_threshold:\n",
    "                    print(\"Cluster ID: \"+str(cluster_id)+\"|\", \"P-Value: \"+str(p_value)+\";\")\n",
    "            \n",
    "            except:\n",
    "                print(\"Exception occurred during handling of Cluster ID: \"+str(cluster_id))\n",
    "                \n",
    "        print(\"\\n\")  "
   ]
  },
  {
   "cell_type": "code",
   "execution_count": 20,
   "id": "4c3d6955-2c94-4ce0-aefc-866af9c91fa0",
   "metadata": {},
   "outputs": [
    {
     "name": "stdout",
     "output_type": "stream",
     "text": [
      "age\n",
      "------------------------------------------------------------------\n",
      "\n",
      "Cluster ID: 7| P-Value: 0.003;\n",
      "Cluster ID: 15| P-Value: 0.031;\n",
      "Cluster ID: 40| P-Value: 0.04;\n",
      "Cluster ID: 54| P-Value: 0.006;\n",
      "Cluster ID: 72| P-Value: 0.036;\n",
      "Cluster ID: 78| P-Value: 0.014;\n",
      "Cluster ID: 82| P-Value: 0.012;\n",
      "Cluster ID: 111| P-Value: 0.017;\n",
      "Cluster ID: 125| P-Value: 0.02;\n",
      "Cluster ID: 129| P-Value: 0.004;\n",
      "Cluster ID: 137| P-Value: 0.041;\n",
      "\n",
      "\n",
      "height\n",
      "------------------------------------------------------------------\n",
      "\n",
      "Cluster ID: 5| P-Value: 0.05;\n",
      "Cluster ID: 26| P-Value: 0.033;\n",
      "Cluster ID: 45| P-Value: 0.044;\n",
      "Cluster ID: 53| P-Value: 0.032;\n",
      "Cluster ID: 66| P-Value: 0.028;\n",
      "Cluster ID: 69| P-Value: 0.027;\n",
      "Cluster ID: 71| P-Value: 0.029;\n",
      "Cluster ID: 75| P-Value: 0.014;\n",
      "Cluster ID: 76| P-Value: 0.015;\n",
      "Cluster ID: 81| P-Value: 0.042;\n",
      "Cluster ID: 82| P-Value: 0.019;\n",
      "Cluster ID: 91| P-Value: 0.016;\n",
      "Cluster ID: 96| P-Value: 0.048;\n",
      "Cluster ID: 100| P-Value: 0.028;\n",
      "Cluster ID: 108| P-Value: 0.012;\n",
      "Cluster ID: 111| P-Value: 0.014;\n",
      "Cluster ID: 112| P-Value: 0.033;\n",
      "Cluster ID: 119| P-Value: 0.034;\n",
      "Cluster ID: 121| P-Value: 0.047;\n",
      "Cluster ID: 127| P-Value: 0.043;\n",
      "Cluster ID: 128| P-Value: 0.016;\n",
      "Cluster ID: 129| P-Value: 0.032;\n",
      "Cluster ID: 135| P-Value: 0.019;\n",
      "\n",
      "\n"
     ]
    }
   ],
   "source": [
    "main()"
   ]
  }
 ],
 "metadata": {
  "kernelspec": {
   "display_name": "Python 3 (ipykernel)",
   "language": "python",
   "name": "python3"
  },
  "language_info": {
   "codemirror_mode": {
    "name": "ipython",
    "version": 3
   },
   "file_extension": ".py",
   "mimetype": "text/x-python",
   "name": "python",
   "nbconvert_exporter": "python",
   "pygments_lexer": "ipython3",
   "version": "3.12.2"
  }
 },
 "nbformat": 4,
 "nbformat_minor": 5
}
