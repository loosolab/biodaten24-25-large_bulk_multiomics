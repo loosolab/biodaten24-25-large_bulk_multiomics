{
 "cells": [
  {
   "cell_type": "code",
   "execution_count": null,
   "id": "e82954e4",
   "metadata": {
    "hide_input": true,
    "init_cell": true,
    "scrolled": true
   },
   "outputs": [],
   "source": [
    "from sctoolbox.utils.jupyter import bgcolor, _compare_version\n",
    "\n",
    "# change the background of input cells\n",
    "bgcolor(\"PowderBlue\", select=[3, 5, 8, 9, 10, 14])\n",
    "\n",
    "nb_name = \"04_clustering_2D.ipynb\"\n",
    "\n",
    "_compare_version(nb_name)"
   ]
  },
  {
   "cell_type": "markdown",
   "id": "ce30c0cc",
   "metadata": {},
   "source": [
    "#  04 - Embedding and clustering\n",
    "<hr style=\"border:2px solid black\"> </hr>"
   ]
  },
  {
   "cell_type": "markdown",
   "id": "bfcaa5c4",
   "metadata": {},
   "source": [
    "## 1 - Description\n",
    "This notebook aims to group cells based on how similar their gene expression profiles are. Ideally, the resulting clusters should represent different cell types. This grouping is achieved in two steps: **Embedding** and **Clustering**.\n",
    "\n",
    "### 1.1 Embedding\n",
    "Embeddings are dimension reduction methods to transform high-dimensional data into lower-dimensional representations while preserving the inherent structure and relationships between individual cells.  \n",
    "The sctoolbox supports the [Uniform Manifold Approximation and Projection (UMAP)](https://arxiv.org/abs/1802.03426) and the [t-distributed stochastic neighbor embedding (t-SNE)](https://www.jmlr.org/papers/volume9/vandermaaten08a/vandermaaten08a.pdf) methods for dimension reduction, with UMAP being set as the default value.\n",
    "To learn more about the differences between those methods and get more insight in the parameter selction have a look [here for umap](https://pair-code.github.io/understanding-umap/) and [here for t-SNE](https://distill.pub/2016/misread-tsne/?_ga=2.135835192.888864733.1531353600-1779571267.1531353600).\n",
    "### 1.2 Clustering\n",
    "Single cell clustering is used to group individual cells into clusters based on similarities in their gene expression. The clustering allows to identify distinct cell types and characterize cellular heterogeneity within a population.\n",
    "The sctoolbox supports the [leiden](https://www.nature.com/articles/s41598-019-41695-z) and the [louvain](https://iopscience.iop.org/article/10.1088/1742-5468/2008/10/P10008) clustering methods, with the leiden clustering algorithm being newer and recommended to use."
   ]
  },
  {
   "cell_type": "markdown",
   "id": "3bd5aae2",
   "metadata": {},
   "source": [
    "__________"
   ]
  },
  {
   "cell_type": "markdown",
   "id": "84f514fe",
   "metadata": {},
   "source": [
    "## 2 - Setup"
   ]
  },
  {
   "cell_type": "code",
   "execution_count": null,
   "id": "f81ad691",
   "metadata": {
    "scrolled": true
   },
   "outputs": [],
   "source": [
    "import scanpy as sc\n",
    "import pandas as pd\n",
    "\n",
    "import sctoolbox\n",
    "import sctoolbox.tools as tools\n",
    "import sctoolbox.plotting as pl\n",
    "import sctoolbox.utils as utils\n",
    "\n",
    "sctoolbox.settings.settings_from_config(\"config.yaml\", key=\"04\")\n",
    "\n",
    "sc.set_figure_params(vector_friendly=True, dpi_save=600, scanpy=False)"
   ]
  },
  {
   "cell_type": "markdown",
   "id": "472e8157",
   "metadata": {},
   "source": [
    "__________"
   ]
  },
  {
   "cell_type": "markdown",
   "id": "db8dc437",
   "metadata": {},
   "source": [
    "## 3 - Load anndata"
   ]
  },
  {
   "cell_type": "code",
   "execution_count": null,
   "id": "e783d8d4",
   "metadata": {
    "scrolled": true
   },
   "outputs": [],
   "source": [
    "adata = utils.adata.load_h5ad(\"anndata_3.h5ad\")\n",
    "\n",
    "with pd.option_context(\"display.max.rows\", 5, \"display.max.columns\", None):\n",
    "    display(adata)\n",
    "    display(adata.obs)\n",
    "    display(adata.var)"
   ]
  },
  {
   "cell_type": "markdown",
   "id": "81e6e47d",
   "metadata": {},
   "source": [
    "_______"
   ]
  },
  {
   "cell_type": "markdown",
   "id": "444353d8",
   "metadata": {},
   "source": [
    "## 4 - General input\n",
    "Choose the embedding and clustering method and adjust the range of parameters for each one of them. The specific parameters for **embedding** (`section 5`) and **clustering** (`section 7`) can be chosen after visually inspecting the results."
   ]
  },
  {
   "cell_type": "markdown",
   "id": "3c3b2bb6",
   "metadata": {},
   "source": [
    "<h1><center>⬐ Fill in input data here ⬎</center></h1>"
   ]
  },
  {
   "cell_type": "code",
   "execution_count": null,
   "id": "88c3aa60",
   "metadata": {
    "scrolled": true
   },
   "outputs": [],
   "source": [
    "# Column to show in UMAPs\n",
    "condition_column = 'meta c19_severity'\n",
    "\n",
    "# Number of threads to use for multiprocessing\n",
    "threads = 4\n",
    "\n",
    "# Search embedding parameters\n",
    "embedding = \"umap\"  # umap or tsne\n",
    "search_parameters = True\n",
    "\n",
    "# UMAP parameters\n",
    "dist_range = (0.1, 0.31, 0.1)  # Set min_dist range for umap\n",
    "spread_range = (1, 2.5, 0.5)  # Set spread range for umap\n",
    "n_components = 2  # Number of components for umap (>=3 enables 3d UMAP but likely degrades 2d results)\n",
    "\n",
    "# t-SNE parameters\n",
    "perplexity_range = (30, 60, 10)  # perplexity range for tsne\n",
    "learning_rate_range = (400, 1000, 200)  # learning_rate for tsne\n",
    "\n",
    "# Search different clustering resolutions\n",
    "search_clustering_parameters = True\n",
    "cluster_res_range = (0.1, 1, 0.1)  # Set the searched resolution range from low to high resolution (less to more clusters).\n",
    "clustering_method = \"leiden\"  # leiden or louvain\n",
    "cluster_ncols = 4  # Number of columns displayed in the plot\n",
    "\n",
    "# Annotate regions to genes\n",
    "GTF_PATH = '/mnt/workspace_stud/stud8/gencode.v47.basic.annotation.gtf' # genes gtf file"
   ]
  },
  {
   "cell_type": "markdown",
   "id": "a0211adc",
   "metadata": {},
   "source": [
    "_______"
   ]
  },
  {
   "cell_type": "markdown",
   "id": "98c7e0f5",
   "metadata": {},
   "source": [
    "## 5 - Calculate UMAP/TSNE and find the best setting\n",
    "<hr style=\"border:2px solid black\"> </hr>\n",
    "\n",
    "After visually inspecting the results, adjust the parameters shown below for the best embedding. While it is somewhat subjective what the \"best\" parameters for an embedding should be, the chosen embedding should display clear structures that are neither spread too thin nor too clumped up.\n",
    "\n",
    "### 5.1 Parameter overview\n",
    "\n",
    "|Method|Parameter|Description|\n",
    "|------|---------|-----------|\n",
    "|[UMAP](https://scanpy.readthedocs.io/en/stable/generated/scanpy.tl.umap.html)|`min_dist`|Distances between points to make the plot look more 'clustered'.|\n",
    "|[UMAP](https://scanpy.readthedocs.io/en/stable/generated/scanpy.tl.umap.html)|`spread`|The effective scale of embedded points. Relative to `min_dist`|\n",
    "|[tSNE](https://scanpy.readthedocs.io/en/stable/generated/scanpy.tl.tsne.html)|`perplexity`|Related to the number of nearest-neighbors accounted for during embedding creation. Larger datasets require bigger values.|\n",
    "|[tSNE](https://scanpy.readthedocs.io/en/stable/generated/scanpy.tl.tsne.html)|`learning_rate`|Can be important for embedding cluster formation.|"
   ]
  },
  {
   "cell_type": "code",
   "execution_count": null,
   "id": "0d6a06d8",
   "metadata": {
    "scrolled": true
   },
   "outputs": [],
   "source": [
    "if search_parameters:\n",
    "    if embedding == \"umap\":\n",
    "        pl.embedding.search_umap_parameters(\n",
    "            adata, \n",
    "            min_dist_range=dist_range,\n",
    "            spread_range=spread_range,\n",
    "            color=condition_column,\n",
    "            n_components=n_components,\n",
    "            threads=threads,\n",
    "            save=\"UMAP_parameter_search.pdf\"\n",
    "        )\n",
    "    elif embedding == \"tsne\":\n",
    "        pl.embedding.search_tsne_parameters(\n",
    "            adata, \n",
    "            perplexity_range=perplexity_range,\n",
    "            learning_rate_range=learning_rate_range,\n",
    "            color=condition_column,\n",
    "            threads=threads,\n",
    "            save=\"TSNE_parameter_search.pdf\"\n",
    "        )"
   ]
  },
  {
   "cell_type": "markdown",
   "id": "0b357c27",
   "metadata": {},
   "source": [
    "<h1><center>⬐ Fill in input data here ⬎</center></h1>"
   ]
  },
  {
   "cell_type": "code",
   "execution_count": null,
   "id": "e0e61eb8",
   "metadata": {
    "scrolled": true
   },
   "outputs": [],
   "source": [
    "# Final choice of spread / dist for umap\n",
    "min_dist = 0.3\n",
    "spread = 1.0\n",
    "\n",
    "# Final choice of perplexity / learning_rate for tsne\n",
    "perplexity = 50\n",
    "learning_rate = 800"
   ]
  },
  {
   "cell_type": "markdown",
   "id": "4b99a5c2",
   "metadata": {},
   "source": [
    "_________"
   ]
  },
  {
   "cell_type": "code",
   "execution_count": null,
   "id": "c23fcea2",
   "metadata": {
    "scrolled": true
   },
   "outputs": [],
   "source": [
    "# Calculate final embedding\n",
    "if embedding == \"umap\":\n",
    "    sc.tl.umap(adata, min_dist=min_dist, spread=spread, n_components=n_components)\n",
    "elif embedding == \"tsne\":\n",
    "    sc.tl.tsne(adata, perplexity=perplexity, learning_rate=learning_rate)"
   ]
  },
  {
   "cell_type": "markdown",
   "id": "45390df2",
   "metadata": {},
   "source": [
    "___________"
   ]
  },
  {
   "cell_type": "markdown",
   "id": "f00eba5e",
   "metadata": {},
   "source": [
    "## 6 - Cell clustering\n",
    "<hr style=\"border:2px solid black\"> </hr>\n",
    "\n",
    "This step assigns each cell into a cluster. Cells in the same cluster are assumed to be of the same cell type. Cells are assigned based on their distance within the nearest neighbor graph, which is loosely equivalent to their distance within the embedding. The resolution controls the coarseness of the clustering. A lower resolution results in fewer larger clusters, while a higher resolution results in more smaller clusters.\n",
    "\n",
    "- `clustering_column`: To choose a resolution, change the number in `leiden_0.5`, for example `leiden_0.1` for a resolution of `0.1`. Higher values lead to more clusters."
   ]
  },
  {
   "cell_type": "code",
   "execution_count": null,
   "id": "9bb31817",
   "metadata": {
    "scrolled": true
   },
   "outputs": [],
   "source": [
    "# plot different clustering resolutions\n",
    "if search_clustering_parameters:\n",
    "    pl.clustering.search_clustering_parameters(\n",
    "        adata,\n",
    "        ncols=cluster_ncols,\n",
    "        method=clustering_method,\n",
    "        embedding=embedding,\n",
    "        resolution_range=cluster_res_range,\n",
    "        save=\"clustering_search.png\")"
   ]
  },
  {
   "cell_type": "markdown",
   "id": "5fa4a773",
   "metadata": {},
   "source": [
    "<h1><center>⬐ Fill in input data here ⬎</center></h1>"
   ]
  },
  {
   "cell_type": "code",
   "execution_count": null,
   "id": "7e42e84e",
   "metadata": {
    "scrolled": true
   },
   "outputs": [],
   "source": [
    "# choose final resolution\n",
    "clustering_column = \"leiden_0.1\""
   ]
  },
  {
   "cell_type": "markdown",
   "id": "ae55bf17",
   "metadata": {},
   "source": [
    "_________"
   ]
  },
  {
   "cell_type": "markdown",
   "id": "6f8ae909",
   "metadata": {},
   "source": [
    "### 6.1 - Revise clustering (optional)\n",
    "Here you can use the `tools.clustering.recluster` function to iteratively adjust clustering. The two cells below are provided as a template for either *joining* clusters (first cell) or *splitting* clusters (second cell). Fill in the list at the top of the respective cell to activate *joining* or *splitting*. You can __copy the cells as needed__ for more combining and splitting steps."
   ]
  },
  {
   "cell_type": "code",
   "execution_count": null,
   "id": "9cabf898",
   "metadata": {
    "scrolled": true
   },
   "outputs": [],
   "source": [
    "# combine multiple clusters into one\n",
    "# skipped when empty\n",
    "combine = []  # add cluster names\n",
    "\n",
    "if combine:\n",
    "    tools.clustering.recluster(\n",
    "        adata=adata,\n",
    "        column=clustering_column,\n",
    "        clusters=combine,\n",
    "        task=\"join\",\n",
    "        embedding=embedding,\n",
    "        key_added=\"recluster\"\n",
    "    )\n",
    "\n",
    "    clustering_column = \"recluster\""
   ]
  },
  {
   "cell_type": "code",
   "execution_count": null,
   "id": "cd17648f",
   "metadata": {
    "scrolled": true
   },
   "outputs": [],
   "source": [
    "# split (recluster) one or more clusters\n",
    "# skipped when empty\n",
    "split = []  # add cluster names\n",
    "resolution = 0.15  # 0-1, small values create less clusters\n",
    "\n",
    "if split:\n",
    "    tools.clustering.recluster(\n",
    "        adata=adata, \n",
    "        column=clustering_column,\n",
    "        clusters=split,\n",
    "        task=\"split\",\n",
    "        resolution=resolution,\n",
    "        embedding=embedding,\n",
    "        key_added=\"recluster\"\n",
    "    )\n",
    "\n",
    "    clustering_column = \"recluster\""
   ]
  },
  {
   "cell_type": "code",
   "execution_count": null,
   "id": "dcdbf89a",
   "metadata": {
    "scrolled": true
   },
   "outputs": [],
   "source": [
    " # Create final clustering\n",
    "adata.obs[\"clustering\"] = utils.tables.rename_categories(adata.obs[clustering_column])"
   ]
  },
  {
   "cell_type": "markdown",
   "id": "835a0ce2",
   "metadata": {},
   "source": [
    "___________"
   ]
  },
  {
   "cell_type": "markdown",
   "id": "d3eacda3",
   "metadata": {},
   "source": [
    "### 6.2 - Final clustering of cells"
   ]
  },
  {
   "cell_type": "code",
   "execution_count": null,
   "id": "6a63e08f",
   "metadata": {
    "scrolled": true
   },
   "outputs": [],
   "source": [
    "# Plot final leiden\n",
    "_ = pl.embedding.plot_embedding(adata=adata,\n",
    "                                basis=f\"X_{embedding}\",\n",
    "                                method=embedding,\n",
    "                                color=[condition_column, \"clustering\"],\n",
    "                                save=\"embedding_clustering.pdf\")"
   ]
  },
  {
   "cell_type": "markdown",
   "id": "d07a391d",
   "metadata": {},
   "source": [
    "___________"
   ]
  },
  {
   "cell_type": "markdown",
   "id": "66b670fb",
   "metadata": {},
   "source": [
    "## 7 - Plot distribution of cells across clusters"
   ]
  },
  {
   "cell_type": "code",
   "execution_count": null,
   "id": "217e6f3e",
   "metadata": {
    "scrolled": true
   },
   "outputs": [],
   "source": [
    "_ = pl.qc_filter.n_cells_barplot(\n",
    "    adata,\n",
    "    \"clustering\",\n",
    "    groupby=condition_column,\n",
    "    save=\"cell_distribution_barplot.pdf\"\n",
    ")"
   ]
  },
  {
   "cell_type": "markdown",
   "id": "9b3a83a8",
   "metadata": {},
   "source": [
    "________"
   ]
  },
  {
   "cell_type": "markdown",
   "id": "42f995f7",
   "metadata": {},
   "source": [
    "## 8 - Generating 3D Object with UMAP coordinates in HTML\n",
    "\n",
    "This optional step can be used to create a 3 dimensional UMAP. However, this is **disabled by default** since the process of optimizing in the 3D or higher dimensional space usually **degrades lower dimensional (2D) representation of the UMAP**. Set `n_components` >= 3 at the top of the notebook to enable this step but be aware of the implications."
   ]
  },
  {
   "cell_type": "markdown",
   "id": "716d2371",
   "metadata": {},
   "source": [
    "<h1><center>⬐ Fill in input data here ⬎</center></h1>"
   ]
  },
  {
   "cell_type": "code",
   "execution_count": null,
   "id": "813757b1",
   "metadata": {
    "scrolled": true
   },
   "outputs": [],
   "source": [
    "# plot 3D html for the \"clustering\" adata.obs, change to individual leiden or other columns if needed\n",
    "column_3d = \"clustering\""
   ]
  },
  {
   "cell_type": "markdown",
   "id": "0874870d",
   "metadata": {},
   "source": [
    "____"
   ]
  },
  {
   "cell_type": "code",
   "execution_count": null,
   "id": "ae4091e4",
   "metadata": {
    "scrolled": true
   },
   "outputs": [],
   "source": [
    "if embedding == \"umap\" and n_components > 2:\n",
    "    pl.embedding.plot_3D_UMAP(adata, column_3d, save=f\"umap_3d_{column_3d}\")\n",
    "    html_file = sctoolbox.settings.full_figure_prefix + f\"umap_3d_{column_3d}.html\"\n",
    "\n",
    "    from IPython.display import IFrame\n",
    "    display(IFrame(src=html_file, width=800, height=400))"
   ]
  },
  {
   "cell_type": "markdown",
   "id": "be5f870f",
   "metadata": {},
   "source": [
    "_________"
   ]
  },
  {
   "cell_type": "markdown",
   "id": "87fdaa46",
   "metadata": {},
   "source": [
    "## 9 - Annotate regions to genes\n",
    "This function uses [UROPA](https://doi.org/10.1038/s41598-017-02464-y) to annotate regions to genes with a gtf file containing the genes as reference."
   ]
  },
  {
   "cell_type": "code",
   "execution_count": null,
   "id": "263ae67a",
   "metadata": {
    "scrolled": true
   },
   "outputs": [],
   "source": [
    "tools.peak_annotation.annotate_adata(\n",
    "    adata,\n",
    "    GTF_PATH,\n",
    "    config=None,\n",
    "    best=True,\n",
    "    threads=threads,\n",
    "    coordinate_cols=None,\n",
    "    temp_dir=\"tmp\",\n",
    "    inplace=True\n",
    ")"
   ]
  },
  {
   "cell_type": "code",
   "execution_count": null,
   "id": "02436807",
   "metadata": {
    "scrolled": true
   },
   "outputs": [],
   "source": [
    "adata.var"
   ]
  },
  {
   "cell_type": "markdown",
   "id": "0ee3ccf1",
   "metadata": {},
   "source": [
    "__________"
   ]
  },
  {
   "cell_type": "markdown",
   "id": "3c82fdf8",
   "metadata": {},
   "source": [
    "## 10 - Saving adata for next notebook"
   ]
  },
  {
   "cell_type": "code",
   "execution_count": null,
   "id": "2f8caffc",
   "metadata": {
    "scrolled": true
   },
   "outputs": [],
   "source": [
    "utils.adata.save_h5ad(adata, \"anndata_4_2D.h5ad\")"
   ]
  },
  {
   "cell_type": "code",
   "execution_count": null,
   "id": "d4a2cf3e",
   "metadata": {
    "scrolled": true
   },
   "outputs": [],
   "source": [
    "sctoolbox.settings.close_logfile()"
   ]
  }
 ],
 "metadata": {
  "kernelspec": {
   "display_name": "sctoolbox",
   "language": "python",
   "name": "sctoolbox"
  },
  "language_info": {
   "codemirror_mode": {
    "name": "ipython",
    "version": 3
   },
   "file_extension": ".py",
   "mimetype": "text/x-python",
   "name": "python",
   "nbconvert_exporter": "python",
   "pygments_lexer": "ipython3",
   "version": "3.12.7"
  },
  "sc_framework": {
   "version": "0.11.0"
  }
 },
 "nbformat": 4,
 "nbformat_minor": 5
}
