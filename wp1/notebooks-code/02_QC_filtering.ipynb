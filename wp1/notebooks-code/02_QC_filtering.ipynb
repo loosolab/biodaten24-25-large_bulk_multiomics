{
 "cells": [
  {
   "cell_type": "code",
   "execution_count": null,
   "id": "042a45fc",
   "metadata": {},
   "outputs": [],
   "source": [
    "from sctoolbox.utils.jupyter import bgcolor, _compare_version\n",
    "\n",
    "# change the background of input cells\n",
    "bgcolor(\"PowderBlue\", select= [3, 6, 10, 20, 25, 34])\n",
    "\n",
    "nb_name = \"02_QC_filtering.ipynb\"\n",
    "\n",
    "_compare_version(nb_name)"
   ]
  },
  {
   "cell_type": "code",
   "execution_count": null,
   "id": "35d9fe6a",
   "metadata": {},
   "outputs": [],
   "source": [
    "import os \n",
    "import importlib\n",
    "import tempfile\n",
    "\n",
    "#set tempdir \n",
    "os.environ[\"TMPDIR\"] = \"/mnt/workspace_stud/stud4/stud4/tmpdir\"\n",
    "\n",
    "#reload module\n",
    "importlib.reload(tempfile)\n",
    "\n",
    "#print tempdir \n",
    "print(tempfile.gettempdir())"
   ]
  },
  {
   "cell_type": "markdown",
   "id": "b1db09e0",
   "metadata": {},
   "source": [
    "# 02 - QC and filtering\n",
    "<hr style=\"border:2px solid black\"> </hr>"
   ]
  },
  {
   "cell_type": "markdown",
   "id": "6b816a75",
   "metadata": {},
   "source": [
    "## 1 - Description\n",
    "\n",
    "**Quality control**\n",
    "\n",
    "We must ensure that all cellular barcode data correspond to viable cells.\n",
    "\n",
    "To ensure this quality control (QC) is mandatory and for ATAC-seq data based on 4 key aspects:\n",
    "\n",
    "1. The signal-to-noise, either via i) the enrichment of known regions, or ii) the determination of the ratio of fragments in peaks (FRiP).\n",
    "2. The total number of unique fragments, also known as library complexity.\n",
    "3. The fraction of reads derived from mitochondrial DNA vs. nuclear DNA.\n",
    "4. The Fragment Length Distribution.\n",
    "\n",
    "**DOI: [10.1186/s13059-020-1929-3](https://doi.org/10.1186/s13059-020-1929-3)**\n",
    "\n",
    "On the single cell scale additional aspects, such as multiplets have to be taken into account.\n",
    "\n",
    "**DOI: [10.1038/s41467-021-21583-9](https://doi.org/10.1038/s41467-021-21583-9)**\n",
    "\n",
    "Based on QC related columns stored in the .obs we can filter for high quality cells based on all these aspects in this notebook.\n",
    "\n",
    "**Feature Selection**\n",
    "\n",
    "For subsequent processing steps such as dimension reduction, embedding and clustering, the filtering of features and the selection of highly variable features can be conducive.\n",
    "\n",
    "Therefore this notebooks provides steps to exclude regions from sex chromosomes and mitochondrial chromosomes and to select highly variabele features."
   ]
  },
  {
   "cell_type": "markdown",
   "id": "b0b72544",
   "metadata": {},
   "source": [
    "____________"
   ]
  },
  {
   "cell_type": "markdown",
   "id": "4c19ceca",
   "metadata": {},
   "source": [
    "## 2 - Setup"
   ]
  },
  {
   "cell_type": "code",
   "execution_count": null,
   "id": "b1a26b64",
   "metadata": {},
   "outputs": [],
   "source": [
    "# sctoolbox modules\n",
    "import sctoolbox\n",
    "import sctoolbox.tools.qc_filter as qc\n",
    "import sctoolbox.utils as utils\n",
    "import sctoolbox.tools as tools\n",
    "import sctoolbox.plotting as pl\n",
    "\n",
    "import peakqc.fld_scoring as fld\n",
    "import matplotlib.pyplot as plt\n",
    "import episcanpy as epi\n",
    "import pandas as pd\n",
    "import scrublet as scr\n",
    "from pathlib import Path\n",
    "\n",
    "sctoolbox.settings.settings_from_config(\"config.yaml\", key=\"02\")"
   ]
  },
  {
   "cell_type": "markdown",
   "id": "7cbac54c",
   "metadata": {},
   "source": [
    "_____________"
   ]
  },
  {
   "cell_type": "markdown",
   "id": "07cefa40",
   "metadata": {},
   "source": [
    "## 3 - Load anndata\n",
    "Uses the anndata object written by the previous notebook.\n",
    "\n",
    "**Checkpoint**  \n",
    "Before the filtering is performed, some ATAC-specific QC metrics are calculated. This may take some time.  \n",
    "To speed up the process of redoing the QC filtering, a checkpoint file is saved after the metrics are calculated, which is used by default if it exists.\n",
    "\n",
    "To disable the use of the checkpoint file, set `use_checkpoint` to `False`. If no checkpoint file is found, it is automatically disabled."
   ]
  },
  {
   "cell_type": "markdown",
   "id": "9d0a17e9",
   "metadata": {},
   "source": [
    "<h1><center>⬐ Fill in input data here ⬎</center></h1>"
   ]
  },
  {
   "cell_type": "code",
   "execution_count": null,
   "id": "4ff556ff",
   "metadata": {},
   "outputs": [],
   "source": [
    "use_checkpoint = True # Use checkpoint file if True"
   ]
  },
  {
   "cell_type": "markdown",
   "id": "0e8fc765",
   "metadata": {},
   "source": [
    "---"
   ]
  },
  {
   "cell_type": "code",
   "execution_count": null,
   "id": "d04e4b7b",
   "metadata": {},
   "outputs": [],
   "source": [
    "# Checkpoint file\n",
    "checkpoint = \"anndata_qc_metric_checkpoint.h5ad\"\n",
    "# Set checkpoint as Path to enable checks\n",
    "checkpoint_file = Path(f\"{sctoolbox.settings.adata_output_dir}/{checkpoint}\")\n",
    "if use_checkpoint and not checkpoint_file.is_file():\n",
    "    print(\"No checkpoint found. Enabling the calculation of the QC metrics.\")\n",
    "    use_checkpoint = False"
   ]
  },
  {
   "cell_type": "code",
   "execution_count": null,
   "id": "b7cf8ea7",
   "metadata": {},
   "outputs": [],
   "source": [
    "adata_name = checkpoint if use_checkpoint else \"anndata_1.h5ad\"\n",
    "adata = utils.adata.load_h5ad(adata_name)\n",
    "\n",
    "with pd.option_context(\"display.max.rows\", 5, \"display.max.columns\", None):\n",
    "    display(adata)\n",
    "    display(adata.obs)\n",
    "    display(adata.var)"
   ]
  },
  {
   "cell_type": "markdown",
   "id": "cc563c62",
   "metadata": {},
   "source": [
    "____________"
   ]
  },
  {
   "cell_type": "markdown",
   "id": "305a31f4",
   "metadata": {},
   "source": [
    "## 4 - QC and filtering\n",
    "<hr style=\"border:2px solid black\"> </hr>"
   ]
  },
  {
   "cell_type": "markdown",
   "id": "7167dd6f",
   "metadata": {},
   "source": [
    "<h1><center>⬐ Fill in input data here ⬎</center></h1>"
   ]
  },
  {
   "cell_type": "code",
   "execution_count": null,
   "id": "5285011f",
   "metadata": {},
   "outputs": [],
   "source": [
    "# Set the column in adata.obs containing the biological condition to evaluate\n",
    "condition_column = \"meta c19_severity\"\n",
    "\n",
    "# Absolute minimum number of features for pre-selection of cells before QC \n",
    "min_genes = 1\n",
    "\n",
    "# Choose whether to binarize the X matrix\n",
    "binarize_mtx = False  # True or False; convert matrix to binary\n",
    "\n",
    "# Optional: Plot STARsolo quality if a path is given\n",
    "quant_folder = \"\"\n",
    "\n",
    "# correction of ambient signal using scAR\",\n",
    "# Caution this process is expensive and thus will take time to run!\",\n",
    "# Requires the raw (unfiltered) AnnData object containing all droplets.\",\n",
    "path_raw_adata = \"\"  # The path to the raw h5ad file. Leave empty to skip.\",\n",
    "epochs = 150  # Number of iterations for the model.\"\n",
    "\n",
    "#----------------------- Doublet removal ------------------------\n",
    "\n",
    "# Use native scrublet or the scanpy wrapper (scanpy: optimized for RNA)\n",
    "use_native_scrublet = True\n",
    "\n",
    "# Default threshold to apply doublet removal on (None for automatic threshold)\n",
    "doublet_threshold = None\n",
    "\n",
    "# Available threads\n",
    "threads = 2"
   ]
  },
  {
   "cell_type": "markdown",
   "id": "16ccabdd",
   "metadata": {},
   "source": [
    "----------------------"
   ]
  },
  {
   "cell_type": "code",
   "execution_count": null,
   "id": "f9c90df2",
   "metadata": {},
   "outputs": [],
   "source": [
    "if not use_checkpoint:\n",
    "    # Ensure that condition column is a category\n",
    "    adata.obs[condition_column] = adata.obs[condition_column].astype(\"category\")"
   ]
  },
  {
   "cell_type": "markdown",
   "id": "681301d5",
   "metadata": {},
   "source": [
    "### 4.1 - Show STARsolo quality (optional)\n",
    "\n",
    "If the data was mapped using STARsolo, use the parameter to set the path to the STARsolo runs and plot quality measures across runs. The path must be a folder, e.g. \"path/to/starsolo_output\", which contains folders per condition e.g. \"cond1\", \"cond2\", etc."
   ]
  },
  {
   "cell_type": "code",
   "execution_count": null,
   "id": "e025f9da",
   "metadata": {},
   "outputs": [],
   "source": [
    "if quant_folder != \"\":\n",
    "    _ = pl.qc_filter.plot_starsolo_quality(quant_folder, save=\"starsolo_quality.pdf\")\n",
    "    _ = pl.qc_filter.plot_starsolo_UMI(quant_folder, ncol=3, save=\"starsolo_cell_selection.pdf\")"
   ]
  },
  {
   "cell_type": "markdown",
   "id": "30eeb32b",
   "metadata": {},
   "source": [
    "_______"
   ]
  },
  {
   "cell_type": "markdown",
   "id": "b81c2b44",
   "metadata": {},
   "source": [
    "### 4.2 - Remove empty cells and features"
   ]
  },
  {
   "cell_type": "code",
   "execution_count": null,
   "id": "bd563625",
   "metadata": {},
   "outputs": [],
   "source": [
    "if not use_checkpoint:\n",
    "    print('original shape:')\n",
    "    print(adata.shape)\n",
    "    print('Removing empty features and cells...')\n",
    "\n",
    "    adata = adata[adata.X.sum(axis=1) > 0]\n",
    "    adata = adata[:, adata.X.sum(axis=0) > 0]\n",
    "\n",
    "print('new shape:')\n",
    "print(adata.shape)"
   ]
  },
  {
   "cell_type": "markdown",
   "id": "d5616f22",
   "metadata": {},
   "source": [
    "________"
   ]
  },
  {
   "cell_type": "markdown",
   "id": "f2897e69",
   "metadata": {},
   "source": [
    "### 4.3 Add ATAC specific metrices\n",
    "<hr style=\"border:1px solid black\"> </hr>\n",
    "\n",
    "Add ATAC specific QC-metrics to the `.obs` table."
   ]
  },
  {
   "cell_type": "markdown",
   "id": "4efb22ec",
   "metadata": {},
   "source": [
    "<h1><center>⬐ Fill in input data here ⬎</center></h1>"
   ]
  },
  {
   "cell_type": "code",
   "execution_count": null,
   "id": "68e0a436",
   "metadata": {},
   "outputs": [],
   "source": [
    "## 1. Source of fragments\n",
    "\n",
    "# Either provide a bamfile or a bedfile containing fragments\n",
    "fragments_file = \"/mnt/workspace_stud/stud6/atac/napkon_fragment/napkon_fragments.bed\"\n",
    "\n",
    "# Name of the bam-tag which contains the barcode information (usually 'CB')\n",
    "barcode_tag = '3'\n",
    "\n",
    "## 2. Choose actions to be done\n",
    "\n",
    "# 2.1 calculate fragment length distribution score\n",
    "calculate_fld_score = True\n",
    "\n",
    "# 2.2 calculate overlap between fragments and regions\n",
    "calculate_overlap = True\n",
    "\n",
    "# Additional settings for the overlap\n",
    "region_name = ''\n",
    "regions_file = '/mnt/workspace_stud/napkon_data/wp1_atac/homo_sapiens.104.promoters2000.gtf'\n",
    "genes_gtf = '/mnt/workspace_stud/stud8/gencode.v47.basic.annotation.gtf'\n",
    "\n",
    "# Number of threads available\n",
    "threads = 8"
   ]
  },
  {
   "cell_type": "markdown",
   "id": "d6ee1cbb",
   "metadata": {},
   "source": [
    "---"
   ]
  },
  {
   "cell_type": "markdown",
   "id": "85e1b7e4",
   "metadata": {},
   "source": [
    "#### 4.3.1 - Check barcode tag \n",
    "If a bamfile is provided this checks if the barcodes are available in the anndata object"
   ]
  },
  {
   "cell_type": "code",
   "execution_count": null,
   "id": "c4f2bff4",
   "metadata": {},
   "outputs": [],
   "source": [
    "use_bam = fragments_file.endswith(\"bam\")\n",
    "if use_bam and not use_checkpoint:\n",
    "    tools.bam.check_barcode_tag(adata, fragments_file, barcode_tag)"
   ]
  },
  {
   "cell_type": "markdown",
   "id": "788a9c4e",
   "metadata": {},
   "source": [
    "---"
   ]
  },
  {
   "cell_type": "markdown",
   "id": "617f418d",
   "metadata": {},
   "source": [
    "#### 4.3.2 - Score fragment length distributions (FLD Score)\n",
    "This ATAC specific quality control metric scores the fragment length distribution pattern of individual cells. This step utilizes PEAKQC for the score calculation. Choose if this score should be calculated and provide a file containing the fragments of the features. As input a bamfile with the raw reads or a bedfile containing fragments are suitable."
   ]
  },
  {
   "cell_type": "code",
   "execution_count": null,
   "id": "9e29f38b",
   "metadata": {},
   "outputs": [],
   "source": [
    "if calculate_fld_score and not use_checkpoint:\n",
    "    fld.add_fld_metrics(adata=adata,\n",
    "                        fragments=fragments_file,\n",
    "                        barcode_col=None,\n",
    "                        barcode_tag=barcode_tag,\n",
    "                        chunk_size_bam=1000000,\n",
    "                        regions=None,\n",
    "                        peaks_thr=10,\n",
    "                        wavelength=150,\n",
    "                        sigma=0.4,\n",
    "                        plot=False,\n",
    "                        save_density=None,\n",
    "                        save_overview=None,\n",
    "                        sample=0)\n",
    "\n",
    "    adata.obs"
   ]
  },
  {
   "cell_type": "markdown",
   "id": "0f23fc8f",
   "metadata": {},
   "source": [
    "---"
   ]
  },
  {
   "cell_type": "markdown",
   "id": "c070b0f5",
   "metadata": {},
   "source": [
    "#### 4.3.3 - Calculate an overlap\n",
    "Compares the amount of fragments within the provided regions (e.g. promoters) against the amount of fragments located in the remaining cell."
   ]
  },
  {
   "cell_type": "code",
   "execution_count": null,
   "id": "0d0ed0e8",
   "metadata": {},
   "outputs": [],
   "source": [
    "#if calculate_overlap and not use_checkpoint:\n",
    "    #tools.calc_overlap_fc.fc_fragments_in_regions(\n",
    "        #adata=adata,\n",
    "        #regions_file=regions_file,\n",
    "        #bam_file=fragments_file if use_bam else None,\n",
    "        #fragments_file=fragments_file if not use_bam else None,\n",
    "        #cb_col=None,\n",
    "        #cb_tag=barcode_tag,\n",
    "        #regions_name=region_name,\n",
    "        #threads=threads,\n",
    "        #temp_dir=None\n",
    "    )\n",
    "\n",
    "    #adata.obs"
   ]
  },
  {
   "cell_type": "markdown",
   "id": "cdb75da3",
   "metadata": {},
   "source": [
    "---"
   ]
  },
  {
   "cell_type": "markdown",
   "id": "7c0a095e",
   "metadata": {},
   "source": [
    "#### 4.3.4 - Calculate fraction of reads in peaks (FRiP Score)\n",
    "The Fraction of reads in Peaks (FRiP Score) can be used to evaluate the overall signal-to-noise ratio. It provides information about the fraction of reads located within the called peak."
   ]
  },
  {
   "cell_type": "code",
   "execution_count": null,
   "id": "d6e483d3",
   "metadata": {},
   "outputs": [],
   "source": [
    "#if not use_checkpoint:\n",
    "    #adata, total_frip = tools.frip.calc_frip_scores(adata, \n",
    "                                                    #fragments_file, \n",
    "                                                    #temp_dir='')\n",
    "    #adata.obs"
   ]
  },
  {
   "cell_type": "markdown",
   "id": "bd4718c9",
   "metadata": {},
   "source": [
    "---"
   ]
  },
  {
   "cell_type": "markdown",
   "id": "45833fa6",
   "metadata": {},
   "source": [
    "#### 4.3.5 - Calculate transcription start site enrichment (TSSe)\n",
    "As for the FRiP Score the Transcription Start Site Enrichment (TSSE) Score is used to evaluate the signal-to-noise ratio. It is a score that describes the proximity of signal to transcription start sites."
   ]
  },
  {
   "cell_type": "code",
   "execution_count": null,
   "id": "27d4f6c0",
   "metadata": {
    "scrolled": true
   },
   "outputs": [],
   "source": [
    "#if not use_checkpoint:\n",
    "    #adata, tSSe_df = tools.tsse.add_tsse_score(adata,\n",
    "                                               #fragments=fragments_file,\n",
    "                                               #gtf=genes_gtf,\n",
    "                                               #negativ_shift=2000,\n",
    "                                                #positiv_shift=2000,\n",
    "                                               #edge_size_total=100,\n",
    "                                               #edge_size_per_base=50,\n",
    "                                               #min_bias=1.0,\n",
    "                                               #keep_tmp=False,\n",
    "                                               #temp_dir=\"\",\n",
    "                                               #plot=True,\n",
    "                                               #return_aggs=True)"
   ]
  },
  {
   "cell_type": "markdown",
   "id": "e2104019",
   "metadata": {},
   "source": [
    "#### Save checkpoint file"
   ]
  },
  {
   "cell_type": "code",
   "execution_count": null,
   "id": "29e0cf3a",
   "metadata": {},
   "outputs": [],
   "source": [
    "if not use_checkpoint:\n",
    "    utils.adata.save_h5ad(adata, checkpoint)"
   ]
  },
  {
   "cell_type": "markdown",
   "id": "e3f3ee99",
   "metadata": {},
   "source": [
    "---"
   ]
  },
  {
   "cell_type": "markdown",
   "id": "4d5044fe",
   "metadata": {},
   "source": [
    "### 4.4 - Denoising\n",
    "Remove ambient signal and technical noise from the count matrix using [scAR](https://www.biorxiv.org/content/10.1101/2022.01.14.476312v4). The tool estimates the ambient profile by averaging cell-free droplets. An autoencoder neural network later corrects the count matrix."
   ]
  },
  {
   "cell_type": "code",
   "execution_count": null,
   "id": "f6964465",
   "metadata": {},
   "outputs": [],
   "source": [
    "import scanpy as sc\n",
    "\n",
    "if path_raw_adata:\n",
    "    print(\"Loading raw anndata...\")\n",
    "    adata_raw = sc.read_h5ad(path_raw_adata)\n",
    "    print(\"Denoising data, this will take a while...\")\n",
    "    adata = qc.denoise_data(adata, adata_raw, feature_type='Peaks', epochs=epochs,\n",
    "                            verbose=False, save='droplets_kneeplot.pdf')"
   ]
  },
  {
   "cell_type": "markdown",
   "id": "ac673840",
   "metadata": {},
   "source": [
    "_______"
   ]
  },
  {
   "cell_type": "markdown",
   "id": "efd741f7",
   "metadata": {},
   "source": [
    "### 4.5 - Binarize matrix\n",
    "Binarizes the count matrix to be either 0 or 1. This corresponds to the general view that chromatin is either accessible (1) or inaccesible (0). However, it is still under debate whether binarization may result in a loss of information. Therefore,  binarization is optional.\n",
    "\n",
    "**DOI: [10.1038/s41592-023-02112-6](https://doi.org/10.1038/s41592-023-02112-6)**"
   ]
  },
  {
   "cell_type": "code",
   "execution_count": null,
   "id": "7d0bf272",
   "metadata": {},
   "outputs": [],
   "source": [
    "# save raw matrix\n",
    "adata.layers[\"raw\"] = adata.X.copy()\n",
    "# binarize\n",
    "if binarize_mtx:\n",
    "    epi.pp.binarize(adata)"
   ]
  },
  {
   "cell_type": "markdown",
   "id": "ee8f0c02",
   "metadata": {},
   "source": [
    "_______"
   ]
  },
  {
   "cell_type": "markdown",
   "id": "2e59c701",
   "metadata": {},
   "source": [
    "### 4.6 Calculate and remove doublets\n",
    "Doublets are artifacts where two (doublet) or more (multiplet) cells receive the same barcode. As multiplets behave as a joined feature set of the collected cells they may show up as a separate group in downstream analysis, thus potentially skewing results. Therefore, it is recommended to remove doublets.\n",
    "\n",
    "**DOI: [10.1016/j.cels.2018.11.005](https://doi.org/10.1016/j.cels.2018.11.005)**"
   ]
  },
  {
   "cell_type": "code",
   "execution_count": null,
   "id": "5bd623e5",
   "metadata": {},
   "outputs": [],
   "source": [
    "#tools.qc_filter.estimate_doublets(adata, use_native=use_native_scrublet, groupby=condition_column, threads=threads, threshold=doublet_threshold)"
   ]
  },
  {
   "cell_type": "markdown",
   "id": "cbee51ce",
   "metadata": {},
   "source": [
    "<h1><center>⬐ Fill in input data here ⬎</center></h1>"
   ]
  },
  {
   "cell_type": "code",
   "execution_count": null,
   "id": "577506bd",
   "metadata": {},
   "outputs": [],
   "source": [
    "# Remove predicted doublet\n",
    "remove_doublets = False"
   ]
  },
  {
   "cell_type": "markdown",
   "id": "a8b9d4b0",
   "metadata": {},
   "source": [
    "---"
   ]
  },
  {
   "cell_type": "code",
   "execution_count": null,
   "id": "9ebcb1ec",
   "metadata": {},
   "outputs": [],
   "source": [
    "if remove_doublets:\n",
    "    # Remove the duplicates from adata\n",
    "    tools.qc_filter.filter_cells(adata, \"predicted_doublet\", name=\"doublet\")"
   ]
  },
  {
   "cell_type": "code",
   "execution_count": null,
   "id": "a866ebec",
   "metadata": {},
   "outputs": [],
   "source": [
    "# remove empty features\n",
    "adata = adata[adata.X.sum(axis=1) > 0]\n",
    "adata = adata[:, adata.X.sum(axis=0) > 0]"
   ]
  },
  {
   "cell_type": "markdown",
   "id": "ea4e79f9",
   "metadata": {},
   "source": [
    "______"
   ]
  },
  {
   "cell_type": "markdown",
   "id": "2f7b9a9e",
   "metadata": {},
   "source": [
    "### 4.7 - Cell filtering\n",
    "<hr style=\"border:1px solid black\"> </hr>\n",
    "\n",
    "Identify low quality cells and remove them from the dataset. Low quality cells are investigated using several metrics, which can be choosen below."
   ]
  },
  {
   "cell_type": "code",
   "execution_count": null,
   "id": "eafd0635",
   "metadata": {},
   "outputs": [],
   "source": [
    "# Recalculate standard QC metrics (counts...)\n",
    "adata = tools.qc_filter.calculate_qc_metrics(adata, var_type='features')\n",
    "\n",
    "# drop total_counts as it is the same as n_features\n",
    "adata.obs.drop(columns=[\"total_counts\", \"log1p_total_counts\"], inplace=True)\n",
    "\n",
    "# Remove peaks with 0 count\n",
    "zero_bool = adata.var[\"n_cells_by_counts\"] == 0\n",
    "adata = adata[:,~zero_bool]"
   ]
  },
  {
   "cell_type": "code",
   "execution_count": null,
   "id": "396b0706",
   "metadata": {},
   "outputs": [],
   "source": [
    "# available obs columns\n",
    "with pd.option_context(\"display.max.rows\", 5, \"display.max.columns\", None):\n",
    "    display(adata.obs)"
   ]
  },
  {
   "cell_type": "markdown",
   "id": "b06bfed6",
   "metadata": {},
   "source": [
    "Any numeric column shown above can be used as filter metric. Here is a description of the commonly available metrics:\n",
    "\n",
    "| Metric | Description | Recommendation |\n",
    "|--------|-------------|----------------|\n",
    "|fld_score|A score describing the fit of the fragment length distribution to the expected nucleosome driven fragment length distribution.|Bigger values are better.|\n",
    "|mean_fragment_size|The mean size of the DNA fragments of each cell.|Good quality data shows an enrichment for nucleosome free (<147bp) or low number nucleosome fragments.|\n",
    "|n_fragments|The number of DNA fragments per cell.|A lower bound should consider the trade of between a more lenient approach that will keep rarer cell types and low quality cells alike and a stricter threshold that filters more of both groups. The upper threshold should filter outliers as these are likely to be artifacts. Should correlate with `n_features`. |\n",
    "|fold_change_promoters_fragments|The comparison of fragments within promoter regions vs. outside of promoter regions.|A higher value (less fragments outside promoters) is preferable as fragments outside of promoters are considered noise.|\n",
    "|frip|Fraction of reads in peaks. The fraction of reads that are located within the called peaks (0-1).|Similar to `fold_change_promoters_fragments` higher is better as a high number of reads outside of the called peaks is considered a sign for bad quality.|\n",
    "|tsse_score|Transcription start site enrichment score in other words a score that describes the proximity of signal to transcription start sites.|More is better. However, extremely high values should be filtered as they are likely artifacts. The lower bound should be `>0` to remove low quality cells.|\n",
    "|n_features|The number of features (peaks) found within the respective cell. This should correlate with `n_fragments` (the detected DNA fragments per cell).|Needs similar consideration as `n_fragments`.|\n",
    "|log1p_n_features|Same as n_features but on a logarithmic scale.|See above.|"
   ]
  },
  {
   "cell_type": "markdown",
   "id": "820559d4",
   "metadata": {},
   "source": [
    "<h1><center>⬐ Fill in input data here ⬎</center></h1>"
   ]
  },
  {
   "cell_type": "code",
   "execution_count": null,
   "id": "70fcf6fa",
   "metadata": {},
   "outputs": [],
   "source": [
    "# Decide whether to estimate thresholds individual per condition (False) or globally (True)\n",
    "global_threshold = True\n",
    "\n",
    "# Before filtering the impact of the individual filters are plotted by an UpSet plot.\n",
    "# To restrict complexity of the plot the plotted combinations can be limited below.\n",
    "limit_combinations = 2 # Either provide the combination grade as Integer or None to include all\n",
    "\n",
    "# Set initial filter thresholds\n",
    "# The thresholds can be interctively changed later on\n",
    "# Note: Only metrics provided below are available for filtering \n",
    " \n",
    "default_thresholds = {\n",
    "    'n_features': {'min': 33000, 'max': 40000},\n",
    "    #'log1p_n_features': {'min': None, 'max': None},\n",
    "    #'fld_score': {'min': 3000000, 'max': 20000000},\n",
    "    'fld_score_wp3': {'min': 2675, 'max': 4900}, # Aus Analyse von WP3 \n",
    "    #'frip': {'min': None, 'max': None},\n",
    "    #'tsse_score': {'min': 0, 'max': None},\n",
    "    'n_fragments_wp3': {'min': 3000000, 'max': 60000000},\n",
    "    'mean_fragment_size_wp3': {'min': 50, 'max': 290},\n",
    "    'atac fraction of reads in peaks (frip)':{'min': 0.0125, 'max': 0.15},\n",
    "    'fold_change_promoters_fragments': {'min': 0.03 , 'max': 0.12}\n",
    "    # add additional threshold based on the available columns shown above\n",
    "    # format: '<obs clolumn>': {'min': <threshold|None>, 'max': <threshold|None>}\n",
    "    # None = automatically derive initial threshold\n",
    "    # float('inf') or float('-inf') = no filter\n",
    "}"
   ]
  },
  {
   "cell_type": "markdown",
   "id": "03688ee6",
   "metadata": {},
   "source": [
    "__________"
   ]
  },
  {
   "cell_type": "markdown",
   "id": "c0e4c081",
   "metadata": {},
   "source": [
    "#### 4.7.1 Adapt thresholds"
   ]
  },
  {
   "cell_type": "code",
   "execution_count": null,
   "id": "453736e3",
   "metadata": {},
   "outputs": [],
   "source": [
    "groupby = condition_column if global_threshold is False else None\n",
    "initial_thresholds = tools.qc_filter.get_thresholds(adata,\n",
    "                                                    default_thresholds, \n",
    "                                                    groupby=groupby)\n",
    "obs_columns = list(initial_thresholds.keys())\n",
    "tools.qc_filter.thresholds_as_table(initial_thresholds)"
   ]
  },
  {
   "cell_type": "markdown",
   "id": "64806bfe",
   "metadata": {},
   "source": [
    "The plot below estimates the impact each metric (and combination of metrics) would have on the data. Metrics that filter the same amount of cells independent of being alone or combined with other metrics can be disregarded as they have little effect on the overall outcome of the filtering."
   ]
  },
  {
   "cell_type": "code",
   "execution_count": null,
   "id": "fc3b81eb",
   "metadata": {},
   "outputs": [],
   "source": [
    "_ = pl.qc_filter.upset_plot_filter_impacts(adata, \n",
    "                                           thresholds=initial_thresholds, \n",
    "                                           groupby=groupby,\n",
    "                                           limit_combinations=limit_combinations)"
   ]
  },
  {
   "cell_type": "code",
   "execution_count": null,
   "id": "217588bb",
   "metadata": {},
   "outputs": [],
   "source": [
    "%matplotlib widget\n",
    "\n",
    "# Plot violins and sliders\n",
    "obs_figure, obs_slider_dict = pl.qc_filter.quality_violin(\n",
    "    adata,\n",
    "    columns=obs_columns,\n",
    "    groupby=condition_column,\n",
    "    which=\"obs\",\n",
    "    thresholds=initial_thresholds,\n",
    "    global_threshold=global_threshold,\n",
    "    title=\"Cell quality control (before)\",\n",
    "    save=\"cell_filtering.png\"\n",
    ")\n",
    "obs_figure"
   ]
  },
  {
   "cell_type": "markdown",
   "id": "2e002f23",
   "metadata": {},
   "source": [
    "#### 4.7.2 - Apply cell filtering"
   ]
  },
  {
   "cell_type": "code",
   "execution_count": null,
   "id": "87ffedc6",
   "metadata": {},
   "outputs": [],
   "source": [
    "# Get final thresholds\n",
    "final_thresholds = pl.qc_filter.get_slider_thresholds(obs_slider_dict)\n",
    "tools.qc_filter.thresholds_as_table(final_thresholds) # show thresholds"
   ]
  },
  {
   "cell_type": "code",
   "execution_count": null,
   "id": "a8c52e26",
   "metadata": {},
   "outputs": [],
   "source": [
    "%matplotlib inline\n",
    "plt.close()  # close previous figure\n",
    "\n",
    "_ = pl.qc_filter.upset_plot_filter_impacts(adata, \n",
    "                                           thresholds=final_thresholds, \n",
    "                                           groupby=groupby,\n",
    "                                           limit_combinations=limit_combinations)"
   ]
  },
  {
   "cell_type": "code",
   "execution_count": null,
   "id": "044fa5cb",
   "metadata": {},
   "outputs": [],
   "source": [
    "# Show pairwise comparisons of column values w/ thresholds (mean values in case thresholds are grouped)\n",
    "if len(final_thresholds) > 1:\n",
    "    mean_thresholds = tools.qc_filter.get_mean_thresholds(final_thresholds)\n",
    "    _ = pl.general.pairwise_scatter(adata.obs, obs_columns, thresholds=mean_thresholds, save=\"cell_filtering_scatter.pdf\")"
   ]
  },
  {
   "cell_type": "code",
   "execution_count": null,
   "id": "7439a879",
   "metadata": {},
   "outputs": [],
   "source": [
    "tools.qc_filter.apply_qc_thresholds(adata, final_thresholds)\n",
    "\n",
    "# remove empty features after cell filtering\n",
    "adata = adata[:, adata.X.sum(axis=0) > 0]"
   ]
  },
  {
   "cell_type": "markdown",
   "id": "ea362bc6",
   "metadata": {},
   "source": [
    "#### 4.7.3 - Show data after filtering"
   ]
  },
  {
   "cell_type": "code",
   "execution_count": null,
   "id": "cb46aa75",
   "metadata": {},
   "outputs": [],
   "source": [
    "%matplotlib inline \n",
    "\n",
    "#Plot violins and sliders\n",
    "figure, slider_dict = pl.qc_filter.quality_violin(\n",
    "    adata,\n",
    "    columns=obs_columns,\n",
    "    groupby=condition_column,\n",
    "    which=\"obs\", ncols=3,\n",
    "    global_threshold = global_threshold,\n",
    "    title=\"Cell quality control (after)\",\n",
    "    save=\"cell_filtering_final.pdf\"\n",
    ")\n",
    "figure "
   ]
  },
  {
   "cell_type": "markdown",
   "id": "e04587be",
   "metadata": {},
   "source": [
    "## 5 - Feature processing\n",
    "<hr style=\"border:2px solid black\"> </hr>\n",
    "\n",
    "This section filters features (peaks). The user has the option to remove features located on the mitochondrial chromosome and features on either of the allosomes. Additionally, features can be reduced to highly variable features (features with high differences between cells)."
   ]
  },
  {
   "cell_type": "markdown",
   "id": "1638be73",
   "metadata": {},
   "source": [
    "<h1><center>⬐ Fill in input data here ⬎</center></h1>"
   ]
  },
  {
   "cell_type": "code",
   "execution_count": null,
   "id": "e52f2381",
   "metadata": {},
   "outputs": [],
   "source": [
    "# Removal of feature subsets\n",
    "filter_chrM = True  # True or False; filtering out chrM\n",
    "filter_xy = True    # True or False; filtering out chrX and chrY\n",
    "\n",
    "# Highly Variable Features options \n",
    "select_highly_variable = False\n",
    "min_cells = 5 # This one is mandatory\n",
    "max_cells = None"
   ]
  },
  {
   "cell_type": "markdown",
   "id": "6cfc08ea",
   "metadata": {},
   "source": [
    "__________"
   ]
  },
  {
   "cell_type": "markdown",
   "id": "9d46eb3c",
   "metadata": {},
   "source": [
    "### 5.1 - Filter additional marked features"
   ]
  },
  {
   "cell_type": "code",
   "execution_count": null,
   "id": "a417a16e",
   "metadata": {},
   "outputs": [],
   "source": [
    "if filter_chrM:\n",
    "    print(\"Removing chromosomal features...\")\n",
    "    non_m = [name for name in adata.var_names if not name.startswith('chrM')]  # remove chrM\n",
    "    adata = adata[:, non_m]\n",
    "    \n",
    "if filter_xy:\n",
    "    print(\"Removing gender related features...\")\n",
    "    non_xy = [name for name in adata.var_names if not name.startswith('chrY') | name.startswith('chrX')]\n",
    "    adata = adata[:, non_xy]"
   ]
  },
  {
   "cell_type": "markdown",
   "id": "e5e2824e",
   "metadata": {},
   "source": [
    "_________"
   ]
  },
  {
   "cell_type": "markdown",
   "id": "d767606e",
   "metadata": {},
   "source": [
    "### 5.2 - Select highly variable features"
   ]
  },
  {
   "cell_type": "code",
   "execution_count": null,
   "id": "013122ed",
   "metadata": {},
   "outputs": [],
   "source": [
    "# update number of cells per feature\n",
    "adata = tools.qc_filter.calculate_qc_metrics(adata, var_type='features')\n",
    "\n",
    "# drop total_counts as it is the same as n_features\n",
    "adata.obs.drop(columns=[\"total_counts\", \"log1p_total_counts\"], inplace=True)\n",
    "\n",
    "if select_highly_variable:\n",
    "    # get highly variable features\n",
    "    tools.highly_variable.get_variable_features(adata, max_cells, min_cells)\n",
    "    #Number of variable genes selected\n",
    "    adata.var[\"highly_variable\"].sum()\n",
    "    # plot HVF violin\n",
    "    pl.highly_variable.violin_HVF_distribution(adata)"
   ]
  },
  {
   "cell_type": "markdown",
   "id": "f5e6ac08",
   "metadata": {},
   "source": [
    "________"
   ]
  },
  {
   "cell_type": "markdown",
   "id": "9e8a51ce",
   "metadata": {},
   "source": [
    "## 6 - Save filtered adata\n",
    "<hr style=\"border:2px solid black\"> </hr>\n",
    "Store the final results"
   ]
  },
  {
   "cell_type": "code",
   "execution_count": null,
   "id": "8a3d4f95",
   "metadata": {},
   "outputs": [],
   "source": [
    "adata"
   ]
  },
  {
   "cell_type": "code",
   "execution_count": null,
   "id": "8120db57",
   "metadata": {},
   "outputs": [],
   "source": [
    "#Saving the data\n",
    "adata_output = \"anndata_2.h5ad\"\n",
    "utils.adata.save_h5ad(adata, adata_output)"
   ]
  },
  {
   "cell_type": "code",
   "execution_count": null,
   "id": "1c24ffba",
   "metadata": {},
   "outputs": [],
   "source": [
    "sctoolbox.settings.close_logfile()"
   ]
  }
 ],
 "metadata": {
  "kernelspec": {
   "display_name": "sctoolbox",
   "language": "python",
   "name": "sctoolbox"
  },
  "language_info": {
   "codemirror_mode": {
    "name": "ipython",
    "version": 3
   },
   "file_extension": ".py",
   "mimetype": "text/x-python",
   "name": "python",
   "nbconvert_exporter": "python",
   "pygments_lexer": "ipython3",
   "version": "3.12.7"
  },
  "sc_framework": {
   "version": "0.11.0"
  }
 },
 "nbformat": 4,
 "nbformat_minor": 5
}
