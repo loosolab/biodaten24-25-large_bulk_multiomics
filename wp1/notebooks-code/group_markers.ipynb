{
 "cells": [
  {
   "cell_type": "code",
   "execution_count": null,
   "id": "b522f84b",
   "metadata": {
    "hide_input": true,
    "init_cell": true
   },
   "outputs": [],
   "source": [
    "from sctoolbox.utils.jupyter import bgcolor, _compare_version\n",
    "\n",
    "# change the background of input cells\n",
    "bgcolor(\"PowderBlue\", select=[2, 4, 6, 8, 17, 21])\n",
    "\n",
    "nb_name = \"group_markers.ipynb\"\n",
    "\n",
    "_compare_version(nb_name)"
   ]
  },
  {
   "cell_type": "markdown",
   "id": "32dc117a",
   "metadata": {},
   "source": [
    "# Marker computation and analysis\n",
    "<hr style=\"border:2px solid black\"> </hr>\n",
    "\n",
    "## 1 - Description\n",
    "\n",
    "**Note: Requires the dataset to be split into groups/ clusters. This can be achieved using a clustering notebook e.g. `04_clustering.ipynb` for RNA.**\n",
    "\n",
    "**Move this notebook into the notebook folder (e.g. `rna_analysis/notebooks/`) of the respective analysis before using it!**\n",
    "\n",
    "An important part of most analysis is the identification and subsequent interpretation of changes between predefined groups. Most commonly, groups were based on experimental conditions (e.g. healthy vs. ill) with the aim of identifying differential features (e.g. genes) to explain the underlying mechanisms. With the increased resolution of single cell data another approach became viable, namely the identification of cell types. But before cell type assignment (see  `annotation.ipynb`) markers have to be identified which follows the same concept of identifying group specific differences.\n",
    "\n",
    "This notebook is aimed at computing lists of potential markers, e.g. marker genes for RNA and marker peaks for ATAC, based on the selected groups and reviewing their performance through visualization. Two different methods are provided for the identification of group markers:\n",
    "\n",
    "- The [rank_genes_groups()](https://scanpy.readthedocs.io/en/stable/generated/scanpy.tl.rank_genes_groups.html) method from scanpy.\n",
    "- [DESeq2](https://doi.org/doi:10.18129/B9.bioc.DESeq2) a method originally intended for bulk that will be run by first creating pseudobulks from the given groups."
   ]
  },
  {
   "cell_type": "markdown",
   "id": "cfa7b885",
   "metadata": {},
   "source": [
    "---------"
   ]
  },
  {
   "cell_type": "markdown",
   "id": "f5fe7842",
   "metadata": {},
   "source": [
    "## 2 - Loading packages"
   ]
  },
  {
   "cell_type": "code",
   "execution_count": null,
   "id": "98c38347",
   "metadata": {
    "hide_input": false
   },
   "outputs": [],
   "source": [
    "import scanpy as sc\n",
    "import pandas as pd\n",
    "import numpy as np\n",
    "import matplotlib.backends.backend_pdf\n",
    "\n",
    "import sctoolbox\n",
    "import sctoolbox.utils as utils\n",
    "import sctoolbox.tools as tools\n",
    "import sctoolbox.plotting as pl\n",
    "from sctoolbox import settings"
   ]
  },
  {
   "cell_type": "markdown",
   "id": "056db913",
   "metadata": {},
   "source": [
    "---------"
   ]
  },
  {
   "cell_type": "markdown",
   "id": "7a9534c2",
   "metadata": {},
   "source": [
    "## 3 - Loading adata"
   ]
  },
  {
   "cell_type": "markdown",
   "id": "45e34df8",
   "metadata": {},
   "source": [
    "<h1><center>⬐ Fill in input data here ⬎</center></h1>"
   ]
  },
  {
   "cell_type": "code",
   "execution_count": null,
   "id": "17337e46",
   "metadata": {
    "hide_input": false
   },
   "outputs": [],
   "source": [
    "# sctoolbox settings\n",
    "settings.adata_input_dir = \"../adatas/\"\n",
    "settings.adata_output_dir = \"../adatas/\"\n",
    "settings.figure_dir = \"../figures/markers/\"\n",
    "settings.table_dir = \"../tables/markers/\"\n",
    "settings.log_file = \"../logs/marker_log.txt\"\n",
    "settings.overwrite_log = True\n",
    "\n",
    "anndata_file = \"anndata_4_2D.h5ad\""
   ]
  },
  {
   "cell_type": "markdown",
   "id": "9f516db7",
   "metadata": {},
   "source": [
    "___"
   ]
  },
  {
   "cell_type": "code",
   "execution_count": null,
   "id": "358b2039",
   "metadata": {
    "hide_input": false
   },
   "outputs": [],
   "source": [
    "adata = utils.adata.load_h5ad(anndata_file)\n",
    "\n",
    "with pd.option_context(\"display.max.rows\", 5, \"display.max.columns\", None):\n",
    "    display(adata)\n",
    "    display(adata.obs)"
   ]
  },
  {
   "cell_type": "markdown",
   "id": "a781e1d0",
   "metadata": {},
   "source": [
    "---------"
   ]
  },
  {
   "cell_type": "markdown",
   "id": "f5f1f953",
   "metadata": {},
   "source": [
    "## 4 - Select grouping\n",
    "<hr style=\"border:2px solid black\"> </hr>\n",
    "\n",
    "Compute markers for all selected groupings and choose the optimal one based on the visualization. Ideally, markers should be only found within one group, causing the plot to show a \"stair\"-like pattern. The identified markers are typically used to assign cell types in downstream analysis."
   ]
  },
  {
   "cell_type": "markdown",
   "id": "cbb28ac5",
   "metadata": {},
   "source": [
    "<h1><center>⬐ Fill in input data here ⬎</center></h1>"
   ]
  },
  {
   "cell_type": "code",
   "execution_count": null,
   "id": "f5606282",
   "metadata": {
    "hide_input": false
   },
   "outputs": [],
   "source": [
    "# Column names of clustering columns\n",
    "# Add all columns of interest\n",
    "clustering_cols = [\"clustering\"] #, \"leiden_0.2\", \"leiden_0.3\", \"leiden_0.4\", \"leiden_0.5\", \"leiden_0.6\", \"leiden_0.7\", \"leiden_0.8\", \"leiden_0.9\"]\n",
    "\n",
    "# Marker features\n",
    "\n",
    "# Method for feature ranking\n",
    "ranking_method = \"t-test\"\n",
    "# Top n features to be reported, None for all features\n",
    "top_n = None\n",
    "\n",
    "# Marker feature filter\n",
    "\n",
    "# Minimum fraction of cells in a group that must express a feature to be considered as a marker\n",
    "min_in_group_fraction = 0.25\n",
    "# Minimum foldchange (+/-) to be considered as a marker\n",
    "min_fold_change = 0.5\n",
    "# Maximum fraction of cells in other groups that must express a feature to be considered as a marker\n",
    "max_out_group_fraction = 0.8\n",
    "\n",
    "# Plotting\n",
    "n_features_markerplot = 5  # number of features to show per group\n",
    "marker_style = \"dots\"  # Either `dots` or `heatmap`."
   ]
  },
  {
   "cell_type": "markdown",
   "id": "e9ea2c84",
   "metadata": {},
   "source": [
    "________"
   ]
  },
  {
   "cell_type": "code",
   "execution_count": null,
   "id": "cb399949",
   "metadata": {
    "hide_input": false
   },
   "outputs": [],
   "source": [
    "for clustering in clustering_cols:\n",
    "\n",
    "    # Identify markers per cluster (adjust group fraction and fold change to filter features)\n",
    "    tools.marker_genes.run_rank_genes(\n",
    "        adata,\n",
    "        clustering,\n",
    "        min_in_group_fraction=min_in_group_fraction,\n",
    "        min_fold_change=min_fold_change,\n",
    "        max_out_group_fraction=max_out_group_fraction,\n",
    "        n_genes=top_n,\n",
    "        ranking_method=ranking_method,\n",
    "        key_added=f\"rank_feature_{clustering}\"\n",
    "    )\n",
    "\n",
    "    # Plot dotplot of markers\n",
    "    _ = pl.marker_genes.rank_genes_plot(\n",
    "        adata,\n",
    "        key=f\"rank_feature_{clustering}_filtered\",\n",
    "        n_genes=n_features_markerplot,\n",
    "        style=marker_style,\n",
    "        title=clustering,\n",
    "        save=f\"marker_{marker_style}_{clustering}.pdf\"\n",
    "    )"
   ]
  },
  {
   "cell_type": "markdown",
   "id": "12abf871",
   "metadata": {},
   "source": [
    "<h1><center>⬐ Fill in input data here ⬎</center></h1>"
   ]
  },
  {
   "cell_type": "code",
   "execution_count": null,
   "id": "4688ad2e",
   "metadata": {},
   "outputs": [],
   "source": [
    "# choose the final clustering (grouping)\n",
    "final_clustering = \"clustering\""
   ]
  },
  {
   "cell_type": "code",
   "execution_count": null,
   "id": "ed2a8abd",
   "metadata": {},
   "outputs": [],
   "source": [
    "for m_style in [\"dots\", \"heatmap\"]:\n",
    "    # Plot dotplot of markers\n",
    "    _ = pl.marker_genes.rank_genes_plot(\n",
    "        adata,\n",
    "        key=f\"rank_feature_{final_clustering}_filtered\",\n",
    "        n_genes=n_features_markerplot,\n",
    "        style=m_style,\n",
    "        title=final_clustering,\n",
    "        save=f\"marker_{m_style}_{final_clustering}.pdf\"\n",
    "    )\n",
    "\n",
    "# Write marker genes to table\n",
    "marker_table = tools.marker_genes.get_rank_genes_tables(\n",
    "    adata,\n",
    "    out_group_fractions=True,\n",
    "    key=f\"rank_feature_{final_clustering}_filtered\",\n",
    "    save_excel=f\"marker_feature_{final_clustering}.xlsx\"\n",
    ")"
   ]
  },
  {
   "cell_type": "markdown",
   "id": "88c0c0cc",
   "metadata": {},
   "source": [
    "---------"
   ]
  },
  {
   "cell_type": "markdown",
   "id": "9a008f34",
   "metadata": {},
   "source": [
    "## 5 - Feature accumulation\n",
    "<hr style=\"border:2px solid black\"> </hr>\n",
    "\n",
    "This section shows the location of cells within the embedding that express features. Features are either the top markers of the respective group or a user-provided list of features."
   ]
  },
  {
   "cell_type": "markdown",
   "id": "700bf580",
   "metadata": {},
   "source": [
    "<h1><center>⬐ Fill in input data here ⬎</center></h1>"
   ]
  },
  {
   "cell_type": "code",
   "execution_count": null,
   "id": "001b376d",
   "metadata": {
    "hide_input": false
   },
   "outputs": [],
   "source": [
    "# Top X marker to be plotted\n",
    "n_marker = 5\n",
    "\n",
    "# List of features additionally shown in the embedding.\n",
    "custom_feat_list = []\n",
    "# name of the feature group\n",
    "fname = \"\"\n",
    "\n",
    "# planet plot\n",
    "# set the data which should be displayed on the x- and y-axis (adata.obs column names) to enable this plot\n",
    "x = \"phase\"\n",
    "y = final_clustering\n",
    "log_scale=False\n",
    "\n",
    "# embedding\n",
    "embedding = \"umap\"  # Either umap or tsne\n",
    "style = \"hexbin\"  # Either 'dots' to show all cells or 'hexbin' or 'density' for density approximations\n",
    "binarize_threshold = 0.0  # threshold of a features expression that a cell must have to be shown in the binarized plot.\n",
    "binarize_threshold_percentile = None # Percentile threshold of a features expression that a cell must have to be shown in the binarized plot. If this is set it takes precedence over binarize_threshold."
   ]
  },
  {
   "cell_type": "markdown",
   "id": "43243146",
   "metadata": {},
   "source": [
    "______"
   ]
  },
  {
   "cell_type": "markdown",
   "id": "330de9f7",
   "metadata": {},
   "source": [
    "### 5.1 - Plot custom feature list\n",
    "\n",
    "Show where the selected features are expressed in the embedding."
   ]
  },
  {
   "cell_type": "code",
   "execution_count": null,
   "id": "7910a429",
   "metadata": {},
   "outputs": [],
   "source": [
    "if custom_feat_list:\n",
    "    pl.embedding.plot_embedding(\n",
    "        adata=adata,\n",
    "        method=embedding,\n",
    "        color=custom_feat_list,\n",
    "        style=style,\n",
    "        save=f\"{embedding}_custom_list_expression.pdf\",\n",
    "        ncols=3\n",
    "    )"
   ]
  },
  {
   "cell_type": "markdown",
   "id": "1f0cd34d",
   "metadata": {},
   "source": [
    "Show the aggregated expression of the selected features."
   ]
  },
  {
   "cell_type": "code",
   "execution_count": null,
   "id": "2c5f3a80",
   "metadata": {},
   "outputs": [],
   "source": [
    "if custom_feat_list:\n",
    "    pl.embedding.agg_feature_embedding(\n",
    "        adata=adata,\n",
    "        features=custom_feat_list,\n",
    "        fname=fname if fname else f\"{', '.join(custom_feat_list)} mean expression\",\n",
    "        save=f\"{embedding}_custom_list_aggr_expression.pdf\"\n",
    "    )"
   ]
  },
  {
   "cell_type": "code",
   "execution_count": null,
   "id": "2a775d1c",
   "metadata": {},
   "outputs": [],
   "source": [
    "if custom_feat_list:\n",
    "    _ = pl.embedding.feature_per_group(\n",
    "        adata=adata,\n",
    "        y=y,\n",
    "        x=custom_feat_list,\n",
    "        style=style,\n",
    "        save=f\"{embedding}_custom_list_with_groups.pdf\",\n",
    "        method=embedding\n",
    "    )"
   ]
  },
  {
   "cell_type": "code",
   "execution_count": null,
   "id": "068159fc",
   "metadata": {},
   "outputs": [],
   "source": [
    "if custom_feat_list:\n",
    "    _ = pl.embedding.feature_per_group(\n",
    "        adata=adata,\n",
    "        y=y,\n",
    "        x=custom_feat_list,\n",
    "        binarize_threshold=binarize_threshold,\n",
    "        binarize_percentile_threshold=binarize_threshold_percentile,\n",
    "        style=style,\n",
    "        save=f\"{embedding}_custom_list_with_groups_binarized.pdf\",\n",
    "        method=embedding\n",
    "    )"
   ]
  },
  {
   "cell_type": "markdown",
   "id": "f1a223bc",
   "metadata": {},
   "source": [
    "Show the expression of features split by x- and y-axis (e.g. clustering vs. cell-cycle). Each combination is further divided into a center dot showing the aggregation of the surrounding features.\n",
    "\n",
    "**Note: can display up to 6 surrounding features. Will use the first 6 if more are selected.**"
   ]
  },
  {
   "cell_type": "code",
   "execution_count": null,
   "id": "9086bee0",
   "metadata": {},
   "outputs": [],
   "source": [
    "if custom_feat_list and x and y:\n",
    "    plot_vars = pl.planet_plot.planet_plot_anndata_preprocess(\n",
    "        adata=adata,\n",
    "        x_col=x,\n",
    "        y_col=y,\n",
    "        genes=custom_feat_list[:6]\n",
    "    )\n",
    "    \n",
    "    pl.planet_plot.planet_plot_render(\n",
    "        plot_vars,\n",
    "        x_col=x,\n",
    "        y_col=y,\n",
    "        mode=\"planet\",\n",
    "        use_log_scale=log_scale,\n",
    "        planet_columns=custom_feat_list[:6],\n",
    "        color_schema=\"viridis\"\n",
    "    )"
   ]
  },
  {
   "cell_type": "markdown",
   "id": "f23f2bb2",
   "metadata": {},
   "source": [
    "---------"
   ]
  },
  {
   "cell_type": "markdown",
   "id": "fd630827",
   "metadata": {},
   "source": [
    "### 5.2 - Plot cluster marker\n",
    "Show the top n markers expression next to their respective group. In the best case a marker is exclusively expressed within the cells that are assigned to the respective group."
   ]
  },
  {
   "cell_type": "code",
   "execution_count": null,
   "id": "48a9bcf0",
   "metadata": {},
   "outputs": [],
   "source": [
    "_ = pl.embedding.feature_per_group(\n",
    "    adata=adata,\n",
    "    y=y,\n",
    "    top_n=n_marker,\n",
    "    marker_key=f\"rank_feature_{final_clustering}_filtered\",\n",
    "    style=style,\n",
    "    save=f\"{embedding}_clustering_{y}_top_{n_marker}_markers.pdf\",\n",
    "    method=embedding\n",
    ")"
   ]
  },
  {
   "cell_type": "markdown",
   "id": "a56c3d6a",
   "metadata": {},
   "source": [
    "Show the top n markers expression binarized next to their respective group. This plot highlights where markers have a minimum expression level, making it easier to identify clusters with a high expression of the marker."
   ]
  },
  {
   "cell_type": "code",
   "execution_count": null,
   "id": "bc6229d9",
   "metadata": {},
   "outputs": [],
   "source": [
    "_ = pl.embedding.feature_per_group(\n",
    "    adata=adata,\n",
    "    y=y,\n",
    "    top_n=n_marker,\n",
    "    marker_key=f\"rank_feature_{final_clustering}_filtered\",\n",
    "    binarize_threshold=binarize_threshold,\n",
    "    binarize_percentile_threshold=binarize_threshold_percentile,\n",
    "    style=style,\n",
    "    save=f\"{embedding}_clustering_{y}_top_{n_marker}_markers_binarized.pdf\",\n",
    "    method=embedding\n",
    ")"
   ]
  },
  {
   "cell_type": "markdown",
   "id": "a5f1d785",
   "metadata": {},
   "source": [
    "---------"
   ]
  },
  {
   "cell_type": "markdown",
   "id": "06fd0df4",
   "metadata": {},
   "source": [
    "## 6 - Condition related markers\n",
    "Until this point markers were computed to identify differences between the previously created cluster groups. However, most experiments provide additional information (e.g. ill vs. healthy, wild-type vs. mutant, etc.). This section aims to use these conditions to identify changes within the above selected clusters."
   ]
  },
  {
   "cell_type": "code",
   "execution_count": null,
   "id": "e4ccaebc",
   "metadata": {},
   "outputs": [],
   "source": [
    "with pd.option_context(\"display.max.rows\", 5, \"display.max.columns\", None):\n",
    "    display(adata.obs)"
   ]
  },
  {
   "cell_type": "markdown",
   "id": "cc9b26ce",
   "metadata": {},
   "source": [
    "<h1><center>⬐ Fill in input data here ⬎</center></h1>"
   ]
  },
  {
   "cell_type": "code",
   "execution_count": null,
   "id": "0e1ade35",
   "metadata": {
    "hide_input": false
   },
   "outputs": [],
   "source": [
    "# Both variables expect a column name from above (adata.obs)\n",
    "clustering_col = final_clustering  # the clustering e.g. the one chosen in the prior section\n",
    "condition_col = \"meta c19_severity\"  # the condition used to find changes within each cluster"
   ]
  },
  {
   "cell_type": "markdown",
   "id": "2e2a75a3",
   "metadata": {},
   "source": [
    "____"
   ]
  },
  {
   "cell_type": "markdown",
   "id": "367e9e5c",
   "metadata": {},
   "source": [
    "The dataset is split on each cluster and a ranking is performed on each individual subset."
   ]
  },
  {
   "cell_type": "code",
   "execution_count": null,
   "id": "82fc5aab",
   "metadata": {
    "hide_input": false
   },
   "outputs": [],
   "source": [
    "# split adata by group, then rank features on each\n",
    "adata_cond = {}\n",
    "\n",
    "for cluster in set(adata.obs[clustering_col]):\n",
    "    print(f\"Cluster {cluster}\")\n",
    "    adata_sub = adata[adata.obs[clustering_col] == cluster]\n",
    "\n",
    "    # Check if sample count is sufficent\n",
    "    value_counts = adata_sub.obs[condition_col].value_counts()\n",
    "    insufficient_size = [i for i in value_counts.index if value_counts[i] == 1]\n",
    "    if insufficient_size: \n",
    "        print(f\"Removed conditions due to insufficent size {insufficient_size}\")\n",
    "        adata_sub = adata_sub[~adata_sub.obs[condition_col].isin(insufficient_size)]\n",
    "\n",
    "    if len(set(adata_sub.obs[condition_col])) < 2:\n",
    "        print(f\"Skipped Cluster {cluster}\")\n",
    "        continue\n",
    "\n",
    "    tools.marker_genes.run_rank_genes(\n",
    "        adata_sub,\n",
    "        condition_col,\n",
    "        min_in_group_fraction=min_in_group_fraction,\n",
    "        min_fold_change=min_fold_change,\n",
    "        max_out_group_fraction=max_out_group_fraction,\n",
    "        n_genes=top_n,\n",
    "        ranking_method=ranking_method\n",
    "    )\n",
    "    \n",
    "    adata_cond[cluster] = adata_sub"
   ]
  },
  {
   "cell_type": "markdown",
   "id": "c238dc4a",
   "metadata": {},
   "source": [
    "One dotplot per group (cluster) showing the top differential features."
   ]
  },
  {
   "cell_type": "code",
   "execution_count": null,
   "id": "3d348485",
   "metadata": {},
   "outputs": [],
   "source": [
    "for key, value in adata_cond.items():\n",
    "    # Plot dotplot of markers\n",
    "    _ = pl.marker_genes.rank_genes_plot(\n",
    "        value,\n",
    "        key=f\"rank_genes_{condition_col}_filtered\",\n",
    "        n_genes=n_features_markerplot,\n",
    "        style=marker_style,\n",
    "        title=key,\n",
    "        save=f\"{marker_style}_{condition_col}_cluster_{key}.pdf\"\n",
    "    )"
   ]
  },
  {
   "cell_type": "code",
   "execution_count": null,
   "id": "3dc2df95",
   "metadata": {},
   "outputs": [],
   "source": [
    "# write marker tables\n",
    "for key, value in adata_cond.items():\n",
    "    # Write marker genes to table\n",
    "    deg_table = tools.marker_genes.get_rank_genes_tables(\n",
    "        value,\n",
    "        out_group_fractions=True,\n",
    "        key=f\"rank_genes_{condition_col}_filtered\",\n",
    "        save_excel=f\"{condition_col}_cluster_{key}.xlsx\"\n",
    "    )"
   ]
  },
  {
   "cell_type": "markdown",
   "id": "8ef94726",
   "metadata": {},
   "source": [
    "---------"
   ]
  },
  {
   "cell_type": "markdown",
   "id": "2981b3c0",
   "metadata": {},
   "source": [
    " ## 7 - Run DEseq2 between conditions/samples"
   ]
  },
  {
   "cell_type": "markdown",
   "id": "0b4aaf3e",
   "metadata": {
    "ExecuteTime": {
     "end_time": "2024-04-03T11:55:37.226680Z",
     "start_time": "2024-04-03T11:55:37.218127Z"
    }
   },
   "source": [
    " <h1><center>⬐ Fill in input data here ⬎</center></h1>"
   ]
  },
  {
   "cell_type": "code",
   "execution_count": null,
   "id": "356d4d24",
   "metadata": {
    "hide_input": false
   },
   "outputs": [],
   "source": [
    "# Adjust which columns to use for DEseq2\n",
    "sample_col = \"sample\"\n",
    "condition_col = \"meta c19_severity\" "
   ]
  },
  {
   "cell_type": "markdown",
   "id": "e103b4a1",
   "metadata": {},
   "source": [
    "___"
   ]
  },
  {
   "cell_type": "code",
   "execution_count": null,
   "id": "07812f3e",
   "metadata": {
    "hide_input": false
   },
   "outputs": [],
   "source": [
    "# Normalize raw counts across cells\n",
    "d = sc.pp.normalize_total(adata, layer=\"raw\", inplace=False) # returns a dict\n",
    "adata.layers[\"raw_norm\"] = d[\"X\"]\n",
    "adata.layers[\"raw_norm\"] = adata.layers[\"raw_norm\"].ceil().astype(int)"
   ]
  },
  {
   "cell_type": "code",
   "execution_count": null,
   "id": "973c1d71",
   "metadata": {
    "hide_input": false
   },
   "outputs": [],
   "source": [
    "# Run DEseq2import numpy as np\n",
    "#deseq_table = tools.marker_genes.run_deseq2(adata, sample_col, condition_col, layer=\"raw_norm\")"
   ]
  },
  {
   "cell_type": "markdown",
   "id": "2908d677",
   "metadata": {},
   "source": [
    "The DEseq2 result table (below) shows the top 10 differential features sorted after the p-value of the first two conditions.\n",
    "\n",
    "| Column | Description |\n",
    "|--------|-------------|\n",
    "|`[condition]_mean`|The mean expression of the respective feature within the given condition.|\n",
    "|`[condition 1]/[condition 2]_log2FoldChange`|Log2 of the quotient of the two conditions mean expression. Values `>0` can be interpreted as \"more expression in 'condition 1'\" and `<0` as \"more expression in 'condition 2'\".|\n",
    "|`[condition 1]/[condition 2]_pvalue`|The convidence if a feature is expressed differentially between the two conditions. Closer to zero = better. `<=0.05` is typically considered significant.|\n",
    "|`[condition 1]/[condition 2]_padj`|The p-value (see above) adjusted for the number of tests (here features).|\n",
    "|`[sample][condition]`|The mean feature expression within the respective sample and condition.|\n",
    "|`baseMean`|The mean expression over each sample split by condition (see above).|"
   ]
  },
  {
   "cell_type": "code",
   "execution_count": null,
   "id": "af8a1f93",
   "metadata": {
    "hide_input": false
   },
   "outputs": [],
   "source": [
    "#with pd.option_context(\"display.max.rows\", 10, \"display.max.columns\", None):\n",
    "    #display(deseq_table.head(10))\n",
    "#print(f\"{len(deseq_table)} rows x {len(deseq_table.columns)} columns\")"
   ]
  },
  {
   "cell_type": "code",
   "execution_count": null,
   "id": "0112a5e1",
   "metadata": {
    "hide_input": false
   },
   "outputs": [],
   "source": [
    "#deseq_table.to_excel(f\"{sctoolbox.settings.table_dir}/DEseq_{sample_col}_vs_{condition_col}.xlsx\")"
   ]
  },
  {
   "cell_type": "markdown",
   "id": "f19b719b",
   "metadata": {},
   "source": [
    "---------"
   ]
  },
  {
   "cell_type": "markdown",
   "id": "3c0070f9",
   "metadata": {},
   "source": [
    "## 8 - Save adata"
   ]
  },
  {
   "cell_type": "code",
   "execution_count": null,
   "id": "8abc5688",
   "metadata": {
    "hide_input": false
   },
   "outputs": [],
   "source": [
    "utils.adata.save_h5ad(adata, \"anndata_marker.h5ad\")"
   ]
  }
 ],
 "metadata": {
  "kernelspec": {
   "display_name": "sctoolbox",
   "language": "python",
   "name": "sctoolbox"
  },
  "language_info": {
   "codemirror_mode": {
    "name": "ipython",
    "version": 3
   },
   "file_extension": ".py",
   "mimetype": "text/x-python",
   "name": "python",
   "nbconvert_exporter": "python",
   "pygments_lexer": "ipython3",
   "version": "3.12.7"
  },
  "sc_framework": {
   "version": "0.11.0"
  }
 },
 "nbformat": 4,
 "nbformat_minor": 5
}
