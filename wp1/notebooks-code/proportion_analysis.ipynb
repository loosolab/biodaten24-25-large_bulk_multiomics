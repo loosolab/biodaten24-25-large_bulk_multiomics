{
 "cells": [
  {
   "cell_type": "code",
   "execution_count": null,
   "id": "c3c832d8",
   "metadata": {
    "hide_input": true,
    "init_cell": true
   },
   "outputs": [],
   "source": [
    "from sctoolbox.utils.jupyter import bgcolor, _compare_version\n",
    "\n",
    "# change the background of input cells\n",
    "bgcolor(\"PowderBlue\", select=[2, 4])\n",
    "\n",
    "nb_name = \"proportion_analysis.ipynb\"\n",
    "\n",
    "_compare_version(nb_name)"
   ]
  },
  {
   "cell_type": "markdown",
   "id": "73c832b1",
   "metadata": {
    "ExecuteTime": {
     "end_time": "2024-04-09T11:47:20.819630Z",
     "start_time": "2024-04-09T11:47:20.808395Z"
    }
   },
   "source": [
    "# Proportion Analysis\n",
    "<hr style=\"border:2px solid black\"> </hr>"
   ]
  },
  {
   "cell_type": "markdown",
   "id": "02e0b422",
   "metadata": {},
   "source": [
    "## 1 - Description\n",
    "\n",
    "**Requires a clustered or otherwise categorized anndata object. A clustering can be generated with a clustering notebook (e.g. `rna_analysis/notebooks/04_clustering.ipynb`).**\n",
    "\n",
    "**Move this notebook into the notebook folder (e.g. `rna_analysis/notebooks/`) of the respective analysis before using it!**\n",
    "\n",
    "Differential proportion analysis aims to identify clusters showing differential composition between different biological conditions. Scanpro offers a linear regression framework and empirical bayes moderated statistical tests, taking sample-to-sample variation into account. Scanpro also generate pseudo-replicates automatically for unreplicated data.\n",
    "\n",
    "In this notebook we will use [Scanpro](https://github.com/loosolab/scanpro). For more information, check the [documentation](https://scanpro.readthedocs.io/en/latest/)\n",
    "\n",
    "<img src=\"https://raw.githubusercontent.com/loosolab/scanpro/main/docs/source/figures/scanpro_workflow.png\" alt=\"image\" width=\"65%\" height=\"auto\">\n"
   ]
  },
  {
   "cell_type": "markdown",
   "id": "135a3550",
   "metadata": {},
   "source": [
    "___"
   ]
  },
  {
   "cell_type": "markdown",
   "id": "9814c461",
   "metadata": {},
   "source": [
    "## 2 - Loading packages"
   ]
  },
  {
   "cell_type": "code",
   "execution_count": null,
   "id": "635f923e",
   "metadata": {
    "hide_input": false
   },
   "outputs": [],
   "source": [
    "import pandas as pd\n",
    "pd.set_option('display.max_columns', None)  # no limit to the number of columns shown\n",
    "from sctoolbox import settings\n",
    "import sctoolbox.utils as utils\n",
    "import sctoolbox.utils.decorator as deco\n",
    "\n",
    "# We will use Scanpro for proportion analysis\n",
    "from scanpro import scanpro"
   ]
  },
  {
   "cell_type": "markdown",
   "id": "f9ca739d",
   "metadata": {},
   "source": [
    "___"
   ]
  },
  {
   "cell_type": "markdown",
   "id": "929bbadf",
   "metadata": {},
   "source": [
    "## 3 - Input/output settings"
   ]
  },
  {
   "cell_type": "markdown",
   "id": "6301fdea",
   "metadata": {},
   "source": [
    "<h1><center>⬐ Fill in input data here ⬎</center></h1>"
   ]
  },
  {
   "cell_type": "code",
   "execution_count": null,
   "id": "fdbab614",
   "metadata": {
    "hide_input": false
   },
   "outputs": [],
   "source": [
    "# In/output paths\n",
    "settings.adata_input_dir = \"../adatas/\"\n",
    "settings.adata_output_dir = \"../adatas/\"\n",
    "settings.figure_dir = \"../figures/proportion_analysis/\"\n",
    "settings.log_file: \"../logs/scanpro_analysis_log.txt\"\n",
    "\n",
    "# Input/Output\n",
    "last_notebook_adata = \"anndata_4_2D.h5ad\"\n",
    "output = \"anndata_scanpro.h5ad\"\n",
    "plot_suffix = \"scanpro\""
   ]
  },
  {
   "cell_type": "markdown",
   "id": "bf6e5bf6",
   "metadata": {},
   "source": [
    "___"
   ]
  },
  {
   "cell_type": "markdown",
   "id": "7a9534c2",
   "metadata": {},
   "source": [
    "## 4 - Load anndata"
   ]
  },
  {
   "cell_type": "code",
   "execution_count": null,
   "id": "6fa71032",
   "metadata": {
    "hide_input": false
   },
   "outputs": [],
   "source": [
    "adata = utils.adata.load_h5ad(last_notebook_adata)\n",
    "\n",
    "adata.obs.rename(columns={'meta age':'meta_age', 'meta age_dec':'meta_age_dec', 'meta sex':'meta_sex', 'meta c19_severity':'meta_c19_severity', 'meta cohort':'meta_cohort', 'atac plate':'atac_plate'}, inplace=True)\n",
    "\n",
    "with pd.option_context(\"display.max.rows\", 5, \"display.max.columns\", None):\n",
    "    display(adata)\n",
    "    display(adata.obs)"
   ]
  },
  {
   "cell_type": "markdown",
   "id": "81461d54",
   "metadata": {},
   "source": [
    "___"
   ]
  },
  {
   "cell_type": "markdown",
   "id": "bda7ab73",
   "metadata": {},
   "source": [
    "## 5 - General Input"
   ]
  },
  {
   "cell_type": "markdown",
   "id": "cbb28ac5",
   "metadata": {},
   "source": [
    "<h1><center>⬐ Fill in input data here ⬎</center></h1>"
   ]
  },
  {
   "cell_type": "code",
   "execution_count": null,
   "id": "91a84c82",
   "metadata": {
    "hide_input": false
   },
   "outputs": [],
   "source": [
    "# Clustering or celltype annotation column\n",
    "clustering_col = \"clustering\"\n",
    "\n",
    "# Set to None if not available\n",
    "sample_col = None\n",
    "\n",
    "# Conditions to compare\n",
    "condition_col = \"meta_c19_severity\"\n",
    "specific_conds = None #[\"mild\",\"severe\"] #,\"moderate\"\n",
    "# Transformation method\n",
    "trans = 'arcsin'  # can be \"logit\" or \"arcsin\".\n",
    "\n",
    "# Covariates to include in analysis\n",
    "covariates = None\n",
    "\n",
    "### For unreplicated data ###\n",
    "# If sample_col=None, data is assumed unreplicated.\n",
    "# Parameters for the bootstrapping if data is unreplicated\n",
    "n_sims = 100  # number of bootstrapping simulations\n",
    "n_reps = 8  # number of pseudo-replicates to generate for each condition\n",
    "\n",
    "# P-value Threshold to determine significane\n",
    "significance_threshold = 0.12\n",
    "\n",
    "### Plots ###\n",
    "# Clusters to plot\n",
    "specific_clusters = None  # specify clusters you want to plot: [\"c1\", \"c2\",...], None to plot all\n",
    "# Number of plots per row\n",
    "n_cols = 4"
   ]
  },
  {
   "cell_type": "markdown",
   "id": "05233b5d",
   "metadata": {},
   "source": [
    "--------------"
   ]
  },
  {
   "cell_type": "markdown",
   "id": "2ceb779a",
   "metadata": {},
   "source": [
    "## 6 - Proportion analysis with Scanpro"
   ]
  },
  {
   "cell_type": "code",
   "execution_count": null,
   "id": "9c4e8839",
   "metadata": {
    "hide_input": false
   },
   "outputs": [],
   "source": [
    "# add decorator to scanpro\n",
    "scanpro = deco.log_anndata(scanpro)"
   ]
  },
  {
   "cell_type": "code",
   "execution_count": null,
   "id": "c86edf5f",
   "metadata": {
    "hide_input": false
   },
   "outputs": [],
   "source": [
    "out = scanpro(adata,\n",
    "              clusters_col=clustering_col,\n",
    "              samples_col=sample_col,\n",
    "              conds_col=condition_col,\n",
    "              conditions=specific_conds,\n",
    "              covariates=covariates,\n",
    "              transform=trans,\n",
    "              n_sims=n_sims,\n",
    "              n_reps=n_reps)\n",
    "\n",
    "out.results"
   ]
  },
  {
   "cell_type": "code",
   "execution_count": null,
   "id": "4e508df1",
   "metadata": {
    "hide_input": false
   },
   "outputs": [],
   "source": [
    "# adjusted p-value is only in combination with sample information present\n",
    "sig_col = \"adjusted_p_values\" if sample_col else \"p_values\"\n",
    "\n",
    "significant_change = (out.results[sig_col] < significance_threshold).to_dict()\n",
    "significant_change"
   ]
  },
  {
   "cell_type": "code",
   "execution_count": null,
   "id": "d8af48ed",
   "metadata": {
    "hide_input": false
   },
   "outputs": [],
   "source": [
    "out.plot(kind='stripplot',\n",
    "         clusters=specific_clusters,\n",
    "         n_columns=n_cols,\n",
    "         save=f'{settings.figure_dir}{plot_suffix}_stripplot.pdf')"
   ]
  },
  {
   "cell_type": "code",
   "execution_count": null,
   "id": "54fc6ea9",
   "metadata": {
    "hide_input": false
   },
   "outputs": [],
   "source": [
    "out.plot(kind='boxplot',\n",
    "         clusters=specific_clusters,\n",
    "         n_columns=n_cols,\n",
    "         save=f'{settings.figure_dir}{plot_suffix}_boxplot.pdf')"
   ]
  },
  {
   "cell_type": "markdown",
   "id": "aca9deb2",
   "metadata": {},
   "source": [
    "The above plots show the proportion (amount) of cells of each group (e.g. cell type) allocated to each of the conditions. The p-value on top of each plot describes whether there is a significant change in proportion between any of the conditions. In case there are no replicates Scanpro will create simulated replicates (similar to random subsamples) to improve statistical robustness. The replicates are either shown as separate entities (upper plot) or as a box-distribution (lower plot). E.g. for a dataset where `clustering_col = \"celltype\"` and `condition_col = \"injury\"` a plot with low p-value can be interpreted as \"Cell Type X shows a high change in the number of cells between injured and healthy\" and a high p-value can be interpreted as \"Cell Type Y shows a low change in the number of cells between injured and healthy\"."
   ]
  },
  {
   "cell_type": "code",
   "execution_count": null,
   "id": "ec8b4d0d",
   "metadata": {
    "hide_input": false
   },
   "outputs": [],
   "source": [
    "# Save results to uns dictionary\n",
    "scanpro_uns_dict = {\"scanpro\": {\"results\": out.results,\n",
    "                                \"significance\": significant_change,\n",
    "                                \"proportions\": out.props,\n",
    "                                \"counts\": out.counts,\n",
    "                                \"transformation\": trans,\n",
    "                                \"conditions\": out.conditions}}\n",
    "# Add to adata\n",
    "adata.uns.update(scanpro_uns_dict)"
   ]
  },
  {
   "cell_type": "markdown",
   "id": "9dace259",
   "metadata": {},
   "source": [
    "___"
   ]
  },
  {
   "cell_type": "markdown",
   "id": "f6a1d49a",
   "metadata": {},
   "source": [
    "## 7 - Saving adata"
   ]
  },
  {
   "cell_type": "code",
   "execution_count": null,
   "id": "217308e0",
   "metadata": {
    "hide_input": false
   },
   "outputs": [],
   "source": [
    "utils.adata.save_h5ad(adata, output)"
   ]
  },
  {
   "cell_type": "code",
   "execution_count": null,
   "id": "b45dba7f",
   "metadata": {
    "hide_input": false
   },
   "outputs": [],
   "source": [
    "settings.close_logfile()"
   ]
  }
 ],
 "metadata": {
  "kernelspec": {
   "display_name": "sctoolbox",
   "language": "python",
   "name": "sctoolbox"
  },
  "language_info": {
   "codemirror_mode": {
    "name": "ipython",
    "version": 3
   },
   "file_extension": ".py",
   "mimetype": "text/x-python",
   "name": "python",
   "nbconvert_exporter": "python",
   "pygments_lexer": "ipython3",
   "version": "3.12.7"
  },
  "sc_framework": {
   "version": "0.11.0"
  }
 },
 "nbformat": 4,
 "nbformat_minor": 5
}
