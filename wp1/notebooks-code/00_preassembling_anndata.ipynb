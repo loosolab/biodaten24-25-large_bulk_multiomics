{
 "cells": [
  {
   "cell_type": "markdown",
   "id": "a14b0771",
   "metadata": {},
   "source": [
    "# 00 - Preassembling files for anndata object\n"
   ]
  },
  {
   "cell_type": "code",
   "execution_count": null,
   "id": "a034e90c",
   "metadata": {},
   "outputs": [],
   "source": [
    "import pandas as pd\n",
    "from scipy.sparse import coo_matrix\n",
    "from scipy.io import mmwrite\n",
    "\n",
    "# --- 1. ATAC-Seq-Daten laden ---\n",
    "atac_data = pd.read_csv(\"/mnt/workspace_stud/napkon_data/wp1_atac/combined_atac_napkon_5_upeak_1perc_all.matrix.raw.anno\", sep=\"\\t\")  # Peak-Matrix\n",
    "patient_metadata = pd.read_csv(\"/mnt/workspace_stud/napkon_data/wp1_atac/out.txt\", sep=\"\\t\")  # Patienten-Metadaten\n",
    "\n",
    "# --- 2. Dateien vorbereiten ---\n",
    "# 2.1. Features-Datei (Peaks + Metadaten)\n",
    "features = atac_data.iloc[:, 0:24] #Auswahl der ersten 24 Spalten -> die Peak ids und Spalten mit Metadaten \n",
    "features.to_csv(\"/mnt/workspace_stud/stud4/stud4/atac_analysis/adatas/anndata_0/regions.tsv\", sep=\"\\t\", index=False, header=False)\n",
    "\n",
    "# 2.2. Barcodes-Datei (Patienten + Metadaten)\n",
    "# Patienten-IDs aus ATAC-Daten extrahieren\n",
    "patient_ids = atac_data.columns[24:]  # Patienten-Spalten starten ab Spalte 25 -> ab index 24\n",
    "barcodes = pd.DataFrame({\n",
    "    \"atac id\": patient_ids #Benennung der Spalte in barcodes.tsv mit \"atac id\"\n",
    "}).merge(patient_metadata, left_on=\"atac id\", right_on=\"atac id\", how=\"left\")  # Metadaten anfügen\n",
    "barcodes.to_csv(\"/mnt/workspace_stud/stud4/stud4/atac_analysis/adatas/anndata_0/barcodes.tsv\", sep=\"\\t\", index=False, header=False)\n",
    "\n",
    "# --- 3. Count-Matrix erstellen ---\n",
    "# Zählwerte extrahieren und NaN durch 0 ersetzen\n",
    "counts = atac_data.iloc[:, 24:].fillna(0)\n",
    "\n",
    "# Sparse-Matrix erstellen\n",
    "sparse_matrix = coo_matrix(counts.values)\n",
    "\n",
    "# MTX-Datei speichern\n",
    "mmwrite(\"/mnt/workspace_stud/stud4/stud4/atac_analysis/adatas/anndata_0/matrix.mtx\", sparse_matrix)"
   ]
  }
 ],
 "metadata": {
  "kernelspec": {
   "display_name": "sctoolbox",
   "language": "python",
   "name": "sctoolbox"
  },
  "language_info": {
   "codemirror_mode": {
    "name": "ipython",
    "version": 3
   },
   "file_extension": ".py",
   "mimetype": "text/x-python",
   "name": "python",
   "nbconvert_exporter": "python",
   "pygments_lexer": "ipython3",
   "version": "3.12.7"
  }
 },
 "nbformat": 4,
 "nbformat_minor": 5
}
