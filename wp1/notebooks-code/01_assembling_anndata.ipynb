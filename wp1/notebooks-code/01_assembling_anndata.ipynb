{
 "cells": [
  {
   "cell_type": "code",
   "execution_count": null,
   "id": "d397d25e",
   "metadata": {
    "hide_input": true,
    "init_cell": true
   },
   "outputs": [],
   "source": [
    "from sctoolbox.utils.jupyter import bgcolor, _compare_version\n",
    "\n",
    "# change the background of input cells\n",
    "bgcolor(\"PowderBlue\", select=[2, 6, 9])\n",
    "\n",
    "nb_name = \"01_assembling_anndata.ipynb\"\n",
    "\n",
    "_compare_version(nb_name)"
   ]
  },
  {
   "cell_type": "markdown",
   "id": "88a120f5",
   "metadata": {},
   "source": [
    "# 01 - Assembling or loading anndata object\n",
    "<hr style=\"border:2px solid black\"> </hr>"
   ]
  },
  {
   "cell_type": "markdown",
   "id": "682e1a86",
   "metadata": {},
   "source": [
    "## 1 - Description\n",
    "This notebook is dedicated to loading or creating an anndata object suitable for the subsequent analysis pipeline. The anndata object is prepared and finally stored as a `.h5ad` file. Based on the available data files there are multiple options to create the anndata object. To satisfy all and especially ATAC-related functionalities indexes are prepared to hold barcodes and feature coordinates.\n",
    "\n",
    "### Available options:\n",
    "#### 1. `.h5ad` file: \n",
    "Choose this option if you have one or more `.h5ad` file(s). The file could be provided by a preprocessing pipeline, a public dataset or a preceeding analysis.\n",
    "\n",
    "#### 2. Convert from R object:\n",
    "This option should be used if the data was processed using R. This can either be a `.rds` or `.robj` file.\n",
    "   \n",
    "#### 3. .mtx, barcode.tsv, [regions.tsv]\n",
    "Choose this option if you have the count matrix in `.mtx` format, a file containing the barcodes (`*_barcodes.tsv`) and an optional file containing the regions (`*_regions.tsv`). Use this option for cases with the aforementioned three files available e.g. from a public dataset."
   ]
  },
  {
   "cell_type": "markdown",
   "id": "e57e5449",
   "metadata": {},
   "source": [
    "___________"
   ]
  },
  {
   "cell_type": "markdown",
   "id": "db480a4c",
   "metadata": {},
   "source": [
    "## 2 - Setup"
   ]
  },
  {
   "cell_type": "code",
   "execution_count": null,
   "id": "c4665377",
   "metadata": {},
   "outputs": [],
   "source": [
    "# sctoolbox modules \n",
    "import sctoolbox\n",
    "import sctoolbox.utils as utils\n",
    "\n",
    "sctoolbox.settings.settings_from_config(\"config.yaml\", key=\"01\")"
   ]
  },
  {
   "cell_type": "markdown",
   "id": "620ea886",
   "metadata": {},
   "source": [
    "___"
   ]
  },
  {
   "cell_type": "markdown",
   "id": "416ff23b",
   "metadata": {},
   "source": [
    "## 3 - Read in data\n",
    "<hr style=\"border:2px solid black\"> </hr>"
   ]
  },
  {
   "cell_type": "markdown",
   "id": "c9e8b8fd",
   "metadata": {
    "pycharm": {
     "name": "#%% md\n"
    }
   },
   "source": [
    "<h1><center>⬐ Fill in input data here ⬎</center></h1>"
   ]
  },
  {
   "cell_type": "code",
   "execution_count": null,
   "id": "6d72e82d",
   "metadata": {},
   "outputs": [],
   "source": [
    "# Choose one option\n",
    "\n",
    "# For option 1: The path to an existing .h5ad file.\n",
    "# A list or dict for multiple files e.g. {\"rep_1\": \"1.h5ad\", \"rep_2\": \"2.h5ad\"}.\n",
    "path_h5ad = \"\"\n",
    "\n",
    "# For option 2: This is the path to the R-related (.rds, .robj) file\n",
    "path_rds = \"\"\n",
    "\n",
    "# For option 3: Directory containing .mtx, barcodes.tsv and optionally regions.tsv\n",
    "path_mtx = \"/mnt/workspace_stud/stud4/stud4/atac_analysis/adatas/anndata_0\""
   ]
  },
  {
   "cell_type": "markdown",
   "id": "afaba61b",
   "metadata": {},
   "source": [
    "----------------"
   ]
  },
  {
   "cell_type": "code",
   "execution_count": null,
   "id": "fc97707c",
   "metadata": {},
   "outputs": [],
   "source": [
    "#if sum(map(lambda x: x != \"\", [path_h5ad, path_rds])) != 1:\n",
    "    #del path_h5ad, path_mtx, path_rds\n",
    "    #raise ValueError(\"Please set only one of the above variables. Adjust the cell above and re-run.\")"
   ]
  },
  {
   "cell_type": "markdown",
   "id": "90b22b3c",
   "metadata": {},
   "source": [
    "### 3.1 - Option 1: Read from h5ad"
   ]
  },
  {
   "cell_type": "code",
   "execution_count": null,
   "id": "330cc1bd",
   "metadata": {},
   "outputs": [],
   "source": [
    "if path_h5ad:\n",
    "    adata = utils.assemblers.from_h5ad(path_h5ad)"
   ]
  },
  {
   "cell_type": "markdown",
   "id": "96fc960b",
   "metadata": {},
   "source": [
    "___"
   ]
  },
  {
   "cell_type": "markdown",
   "id": "ee96d117",
   "metadata": {},
   "source": [
    "### 3.2 - Option 2: Convert from Seurat to anndata object"
   ]
  },
  {
   "cell_type": "code",
   "execution_count": null,
   "id": "be6e671d",
   "metadata": {},
   "outputs": [],
   "source": [
    "# Converting from Seurat to anndata object\n",
    "if path_rds:\n",
    "    adata = utils.assemblers.convertToAdata(file=path_rds)"
   ]
  },
  {
   "cell_type": "markdown",
   "id": "62d76ebe",
   "metadata": {},
   "source": [
    "____"
   ]
  },
  {
   "cell_type": "markdown",
   "id": "743fb6d2",
   "metadata": {},
   "source": [
    "### 3.3 - Option 3: .mtx, barcode.tsv, [regions.tsv]"
   ]
  },
  {
   "cell_type": "code",
   "execution_count": null,
   "id": "f2cbfd0d",
   "metadata": {},
   "outputs": [],
   "source": [
    "# adjust in case of different naming schemes for any of the input files\n",
    "\n",
    "mtx = '*matrix.mtx*'  # pattern for the file that contains counts\n",
    "barcodes = '*barcodes.tsv*'  # pattern for the file that contains barcode information\n",
    "variables = '*regions.tsv*'  # pattern for the optional file that contains variable information"
   ]
  },
  {
   "cell_type": "code",
   "execution_count": null,
   "id": "2d0ff93c",
   "metadata": {},
   "outputs": [],
   "source": [
    "if path_mtx:\n",
    "    adata = utils.assemblers.from_mtx(path_mtx, mtx=mtx, barcodes=barcodes, variables=variables, var_error=False)"
   ]
  },
  {
   "cell_type": "markdown",
   "id": "7df82e5b",
   "metadata": {},
   "source": [
    "____"
   ]
  },
  {
   "cell_type": "markdown",
   "id": "9a4ecec1",
   "metadata": {},
   "source": [
    "## 4 - Prepare anndata\n",
    "<hr style=\"border:2px solid black\"> </hr>\n",
    "\n",
    "Rename or remove observation (`.obs`) and variable (`.var`) columns as needed and format their indices. After this step the index of `.var` holds the feature coordinates and `.obs` the cell barcodes."
   ]
  },
  {
   "cell_type": "code",
   "execution_count": null,
   "id": "ff210946",
   "metadata": {},
   "outputs": [],
   "source": [
    "import pandas as pd\n",
    "\n",
    "with pd.option_context('display.max_rows', 5,'display.max_columns', None):\n",
    "    display(adata.obs)\n",
    "    display(adata.var)"
   ]
  },
  {
   "cell_type": "markdown",
   "id": "d2759a09",
   "metadata": {},
   "source": [
    "<h1><center>⬐ Fill in input data here ⬎</center></h1>"
   ]
  },
  {
   "cell_type": "code",
   "execution_count": null,
   "id": "cc06e2ee",
   "metadata": {},
   "outputs": [],
   "source": [
    "## 1. Modify existing columns\n",
    "\n",
    "# .obs column names that should be deleted\n",
    "drop_obs = [\"33\", \"34\", \"35\", \"36\", \"37\", \"38\", \"39\", \"40\", \"41\", \"42\", \"43\", \"44\", \n",
    "            \"45\", \"46\", \"47\", \"48\", \"49\", \"50\", \"51\", \"52\", \"53\", \"54\", \"55\", \"56\", \n",
    "            \"57\", \"58\", \"59\", \"60\", \"61\", \"62\", \"63\", \"64\", \"65\", \"66\", \"67\", \"68\", \n",
    "            \"69\", \"70\", \"71\", \"72\", \"73\", \"74\", \"75\", \"76\"]\n",
    "\n",
    "# .obs column names that should be changed. E.g. \"old_name\": \"New Name\"\n",
    "rename_obs = {\n",
    "    \"1\": \"TubeID\",\n",
    "    \"2\": \"meta TubeID\",\n",
    "    \"3\": \"meta pop export_psn\",\n",
    "    \"4\": \"meta pop visit_1_date\",\n",
    "    \"5\": \"meta pop visit_2_date\",\n",
    "    \"6\": \"meta pop visit_3_date\",\n",
    "    \"7\": \"meta pop visit_4_date\",\n",
    "    \"8\": \"meta pop age\",\n",
    "    \"9\": \"meta pop age_dec\",\n",
    "    \"10\": \"meta pop sex\",\n",
    "    \"11\": \"meta pop c19_severity\",\n",
    "    \"12\": \"meta pop cohort\",\n",
    "    \"13\": \"meta suep_hap export_psn\",\n",
    "    \"14\": \"meta suep_hap baseline_date\",\n",
    "    \"15\": \"meta suep_hap end_acute_date\",\n",
    "    \"16\": \"meta suep_hap end_acute_visit_date\",\n",
    "    \"17\": \"meta suep_hap m3_fu_date\",\n",
    "    \"18\": \"meta suep_hap m6_fu_date\",\n",
    "    \"19\": \"meta suep_hap m12_fu_date\",\n",
    "    \"20\": \"meta suep_hap m24_fu_date\",\n",
    "    \"21\": \"meta suep_hap age\",\n",
    "    \"22\": \"meta suep_hap age_dec\",\n",
    "    \"23\": \"meta suep_hap sex\",\n",
    "    \"24\": \"meta suep_hap c19_severity\",\n",
    "    \"25\": \"meta suep_hap cohort\",\n",
    "    \"26\": \"meta export_psn\",\n",
    "    \"27\": \"meta age\",\n",
    "    \"28\": \"meta age_dec\",\n",
    "    \"29\": \"meta sex\",\n",
    "    \"30\": \"meta c19_severity\",\n",
    "    \"31\": \"meta cohort\",\n",
    "    \"32\": \"atac Tube ID\",\n",
    "    \n",
    "    \"77\": \"atac export_psn\",\n",
    "    \"78\": \"atac run_path\",\n",
    "    \"79\": \"atac fastq1\",\n",
    "    \"80\": \"atac fastq2\",\n",
    "    \"81\": \"atac bam\",\n",
    "    \"82\": \"atac bw\",\n",
    "    \"83\": \"atac project\",\n",
    "    \"84\": \"atac run\",\n",
    "    \"85\": \"atac plate\",\n",
    "    \"86\": \"atac organism\",\n",
    "    \"87\": \"atac assembly\",\n",
    "    \"88\": \"atac release\",\n",
    "    \"89\": \"atac star parameters\",\n",
    "    \"90\": \"atac reads processed\",\n",
    "    \"91\": \"atac reads with exactly 1 alignment\",\n",
    "    \"92\": \"atac reads with multiple alignments\",\n",
    "    \"93\": \"atac reads with no alignment\",\n",
    "    \"94\": \"atac reads aligned\",\n",
    "    \"95\": \"atac % reads aligned\",\n",
    "    \"96\": \"atac duplicate reads\",\n",
    "    \"97\": \"atac % duplicate reads\",\n",
    "    \"98\": \"atac mitochondrial reads\",\n",
    "    \"99\": \"atac % mitochondrial reads\",\n",
    "    \"100\": \"atac rrna subunit reads\",\n",
    "    \"101\": \"atac % rrna subunit reads\",\n",
    "    \"102\": \"atac pcr bottleneck coefficient\",\n",
    "    \"103\": \"atac mean fragment size (only for paired-end)\",\n",
    "    \"104\": \"atac reads used for further steps (after optional filters for multimap, duplicate, mitochondria, rrna)\",\n",
    "    \"105\": \"atac # peaks raw\",\n",
    "    \"106\": \"atac # peaks filtered\",\n",
    "    \"107\": \"atac factor reads mapped (tpm)\",\n",
    "    \"108\": \"atac factor reads mapped\",\n",
    "    \"109\": \"atac factor reads in peaks\",\n",
    "    \"110\": \"atac factor used for matrix\",\n",
    "    \"111\": \"atac fraction of reads in peaks (frip)\",\n",
    "    \"112\": \"atac usable sample mapped reads over 2000000 peaks > 1000\",\n",
    "    \"113\": \"atac sample id original\",\n",
    "    \"114\": \"atac plate id original\"\n",
    "}\n",
    "\n",
    "# .var column names that should be deleted\n",
    "drop_var = []\n",
    "\n",
    "# .var column names that should be changed. E.g. \"old_name\": \"New Name\"\n",
    "rename_var = {\n",
    "    \"1\": \"Peak chromosome\",\n",
    "    \"2\": \"Peak Start\",\n",
    "    \"3\": \"Peak stop\",\n",
    "    \"4\": \"Gene chromosome\",\n",
    "    \"5\": \"Gene start\",\n",
    "    \"6\": \"Gene stop\",\n",
    "    \"7\": \"Gene strand\",\n",
    "    \"8\": \"Gene id\",\n",
    "    \"9\": \"Gene name\",\n",
    "    \"10\": \"Gene type\",\n",
    "    \"11\": \"UniProt proteins\",\n",
    "    \"12\": \"UniProt genes\",\n",
    "    \"13\": \"UniProt accessions\",\n",
    "    \"14\": \"UniProt names\",\n",
    "    \"15\": \"UniProt Ensembl transcripts\",\n",
    "    \"16\": \"UniProt Ensembl proteins\",\n",
    "    \"17\": \"UniProt Ensembl gene ids\",\n",
    "    \"18\": \"KEGG PATHWAY terms\",\n",
    "    \"19\": \"KEGG PATHWAY ids\",\n",
    "    \"20\": \"Gene Ontology terms\",\n",
    "    \"21\": \"Gene Ontology ids\",\n",
    "    \"22\": \"Distance of peakcenter to TSS\",\n",
    "    \"23\": \"Fraction of peak overlapping genebody\"\n",
    "}\n",
    "\n",
    "## 2. ATAC specific anndata properties\n",
    "\n",
    "# The following settings are used to format the index and coordinate columns\n",
    "\n",
    "# Column name(s) of adata.var containing peak location data.\n",
    "\n",
    "# Either a single column (str) or a list of three columns (['chr', 'start', 'end']).\n",
    "coordinate_cols = ['Peak chromosome', 'Peak Start', 'Peak stop']\n",
    "\n",
    "# when formatting the index, should the prefix be removed\n",
    "remove_var_index_prefix = True\n",
    "\n",
    "# provide a name to save the original index, if None it will be overwritten\n",
    "keep_original_index = None\n",
    "\n",
    "# regex to format the index\n",
    "coordinate_regex = r\"chr[0-9XYM]+[\\_\\:\\-]+[0-9]+[\\_\\:\\-]+[0-9]+\""
   ]
  },
  {
   "cell_type": "markdown",
   "id": "fbf6c915",
   "metadata": {},
   "source": [
    "_________"
   ]
  },
  {
   "cell_type": "markdown",
   "id": "b6cadaf4",
   "metadata": {},
   "source": [
    "### 4.1 - Rename and delete columns "
   ]
  },
  {
   "cell_type": "code",
   "execution_count": null,
   "id": "823e88a4",
   "metadata": {},
   "outputs": [],
   "source": [
    "# change obs\n",
    "obs = adata.obs.copy()\n",
    "\n",
    "obs.drop(columns=drop_obs, inplace=True)\n",
    "obs.rename(columns=rename_obs, errors='raise', inplace=True)\n",
    "\n",
    "# change var\n",
    "var = adata.var.copy()\n",
    "\n",
    "var.drop(columns=drop_var, inplace=True)\n",
    "var.rename(columns=rename_var, errors='raise', inplace=True)\n",
    "\n",
    "# apply changes to adata\n",
    "adata.obs = obs\n",
    "adata.var = var"
   ]
  },
  {
   "cell_type": "markdown",
   "id": "7b82e1ed",
   "metadata": {},
   "source": [
    "___"
   ]
  },
  {
   "cell_type": "markdown",
   "id": "e4072a64",
   "metadata": {},
   "source": [
    "### 4.2 - Format anndata indices\n",
    "Set the cell barcode as `.obs` index and peak location as `.var` index."
   ]
  },
  {
   "cell_type": "code",
   "execution_count": null,
   "id": "addc7586",
   "metadata": {},
   "outputs": [],
   "source": [
    "adata = utils.assemblers.prepare_atac_anndata(adata,\n",
    "                                              coordinate_cols=coordinate_cols,\n",
    "                                              h5ad_path=path_h5ad,\n",
    "                                              remove_var_index_prefix=remove_var_index_prefix,\n",
    "                                              keep_original_index=keep_original_index,\n",
    "                                              coordinate_regex=coordinate_regex)"
   ]
  },
  {
   "cell_type": "markdown",
   "id": "7dadb1da",
   "metadata": {},
   "source": [
    "________"
   ]
  },
  {
   "cell_type": "markdown",
   "id": "28f21370",
   "metadata": {},
   "source": [
    "## 5 - Saving the anndata object"
   ]
  },
  {
   "cell_type": "code",
   "execution_count": null,
   "id": "07246f8d",
   "metadata": {},
   "outputs": [],
   "source": [
    "# Overview of loaded adata\n",
    "display(adata)"
   ]
  },
  {
   "cell_type": "code",
   "execution_count": null,
   "id": "6d1ee030",
   "metadata": {},
   "outputs": [],
   "source": [
    "# Saving the data\n",
    "adata_output = \"anndata_1.h5ad\"\n",
    "utils.adata.save_h5ad(adata, adata_output)"
   ]
  },
  {
   "cell_type": "code",
   "execution_count": null,
   "id": "09b955ce",
   "metadata": {},
   "outputs": [],
   "source": [
    "sctoolbox.settings.close_logfile()"
   ]
  }
 ],
 "metadata": {
  "kernelspec": {
   "display_name": "sctoolbox",
   "language": "python",
   "name": "sctoolbox"
  },
  "language_info": {
   "codemirror_mode": {
    "name": "ipython",
    "version": 3
   },
   "file_extension": ".py",
   "mimetype": "text/x-python",
   "name": "python",
   "nbconvert_exporter": "python",
   "pygments_lexer": "ipython3",
   "version": "3.12.7"
  },
  "sc_framework": {
   "version": "0.11.0"
  }
 },
 "nbformat": 4,
 "nbformat_minor": 5
}
